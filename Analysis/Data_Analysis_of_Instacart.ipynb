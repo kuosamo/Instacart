{
 "cells": [
  {
   "cell_type": "markdown",
   "metadata": {},
   "source": [
    "# Library"
   ]
  },
  {
   "cell_type": "code",
   "execution_count": 1,
   "metadata": {
    "collapsed": false
   },
   "outputs": [],
   "source": [
    "import pandas as pd\n",
    "import matplotlib.pyplot as plt\n",
    "%matplotlib inline\n",
    "import seaborn as sns"
   ]
  },
  {
   "cell_type": "markdown",
   "metadata": {},
   "source": [
    "# Load dataset"
   ]
  },
  {
   "cell_type": "markdown",
   "metadata": {},
   "source": [
    "## 1. orders"
   ]
  },
  {
   "cell_type": "code",
   "execution_count": 4,
   "metadata": {
    "collapsed": false
   },
   "outputs": [],
   "source": [
    "orders = pd.read_csv('../dataset/orders.csv')"
   ]
  },
  {
   "cell_type": "code",
   "execution_count": 5,
   "metadata": {
    "collapsed": false
   },
   "outputs": [
    {
     "data": {
      "text/plain": [
       "order_id                    int64:dense\n",
       "user_id                     int64:dense\n",
       "eval_set                   object:dense\n",
       "order_number                int64:dense\n",
       "order_dow                   int64:dense\n",
       "order_hour_of_day           int64:dense\n",
       "days_since_prior_order    float64:dense\n",
       "dtype: object"
      ]
     },
     "execution_count": 5,
     "metadata": {},
     "output_type": "execute_result"
    }
   ],
   "source": [
    "orders.ftypes"
   ]
  },
  {
   "cell_type": "code",
   "execution_count": 6,
   "metadata": {
    "collapsed": false,
    "scrolled": false
   },
   "outputs": [
    {
     "data": {
      "text/html": [
       "<div>\n",
       "<table border=\"1\" class=\"dataframe\">\n",
       "  <thead>\n",
       "    <tr style=\"text-align: right;\">\n",
       "      <th></th>\n",
       "      <th>order_id</th>\n",
       "      <th>user_id</th>\n",
       "      <th>eval_set</th>\n",
       "      <th>order_number</th>\n",
       "      <th>order_dow</th>\n",
       "      <th>order_hour_of_day</th>\n",
       "      <th>days_since_prior_order</th>\n",
       "    </tr>\n",
       "  </thead>\n",
       "  <tbody>\n",
       "    <tr>\n",
       "      <th>3421078</th>\n",
       "      <td>2266710</td>\n",
       "      <td>206209</td>\n",
       "      <td>prior</td>\n",
       "      <td>10</td>\n",
       "      <td>5</td>\n",
       "      <td>18</td>\n",
       "      <td>29.0</td>\n",
       "    </tr>\n",
       "    <tr>\n",
       "      <th>3421079</th>\n",
       "      <td>1854736</td>\n",
       "      <td>206209</td>\n",
       "      <td>prior</td>\n",
       "      <td>11</td>\n",
       "      <td>4</td>\n",
       "      <td>10</td>\n",
       "      <td>30.0</td>\n",
       "    </tr>\n",
       "    <tr>\n",
       "      <th>3421080</th>\n",
       "      <td>626363</td>\n",
       "      <td>206209</td>\n",
       "      <td>prior</td>\n",
       "      <td>12</td>\n",
       "      <td>1</td>\n",
       "      <td>12</td>\n",
       "      <td>18.0</td>\n",
       "    </tr>\n",
       "    <tr>\n",
       "      <th>3421081</th>\n",
       "      <td>2977660</td>\n",
       "      <td>206209</td>\n",
       "      <td>prior</td>\n",
       "      <td>13</td>\n",
       "      <td>1</td>\n",
       "      <td>12</td>\n",
       "      <td>7.0</td>\n",
       "    </tr>\n",
       "    <tr>\n",
       "      <th>3421082</th>\n",
       "      <td>272231</td>\n",
       "      <td>206209</td>\n",
       "      <td>train</td>\n",
       "      <td>14</td>\n",
       "      <td>6</td>\n",
       "      <td>14</td>\n",
       "      <td>30.0</td>\n",
       "    </tr>\n",
       "  </tbody>\n",
       "</table>\n",
       "</div>"
      ],
      "text/plain": [
       "         order_id  user_id eval_set  order_number  order_dow  \\\n",
       "3421078   2266710   206209    prior            10          5   \n",
       "3421079   1854736   206209    prior            11          4   \n",
       "3421080    626363   206209    prior            12          1   \n",
       "3421081   2977660   206209    prior            13          1   \n",
       "3421082    272231   206209    train            14          6   \n",
       "\n",
       "         order_hour_of_day  days_since_prior_order  \n",
       "3421078                 18                    29.0  \n",
       "3421079                 10                    30.0  \n",
       "3421080                 12                    18.0  \n",
       "3421081                 12                     7.0  \n",
       "3421082                 14                    30.0  "
      ]
     },
     "execution_count": 6,
     "metadata": {},
     "output_type": "execute_result"
    }
   ],
   "source": [
    "orders.tail()"
   ]
  },
  {
   "cell_type": "code",
   "execution_count": 7,
   "metadata": {
    "collapsed": false
   },
   "outputs": [
    {
     "name": "stdout",
     "output_type": "stream",
     "text": [
      "\n",
      "total orders              :  3421083\n",
      "total users               :  206209\n",
      "# of order_number         :  100\n",
      "# of order_day_of_week    :  7\n",
      "# of order_hour_of_day    :  24\n",
      "# of day_since_prior_order:  32\n",
      "====================\n"
     ]
    }
   ],
   "source": [
    "print\n",
    "print 'total orders              : ', orders.shape[0]\n",
    "print 'total users               : ', len(orders.user_id.unique())\n",
    "print '# of order_number         : ', len(orders.order_number.unique())\n",
    "print '# of order_day_of_week    : ', len(orders.order_dow.unique())\n",
    "print '# of order_hour_of_day    : ', len(orders.order_hour_of_day.unique())\n",
    "print '# of day_since_prior_order: ', len(orders.days_since_prior_order.unique())\n",
    "print '='*20"
   ]
  },
  {
   "cell_type": "code",
   "execution_count": 89,
   "metadata": {
    "collapsed": false
   },
   "outputs": [
    {
     "data": {
      "text/plain": [
       "[nan,\n",
       " 0.0,\n",
       " 1.0,\n",
       " 2.0,\n",
       " 3.0,\n",
       " 4.0,\n",
       " 5.0,\n",
       " 6.0,\n",
       " 7.0,\n",
       " 8.0,\n",
       " 9.0,\n",
       " 10.0,\n",
       " 11.0,\n",
       " 12.0,\n",
       " 13.0,\n",
       " 14.0,\n",
       " 15.0,\n",
       " 16.0,\n",
       " 17.0,\n",
       " 18.0,\n",
       " 19.0,\n",
       " 20.0,\n",
       " 21.0,\n",
       " 22.0,\n",
       " 23.0,\n",
       " 24.0,\n",
       " 25.0,\n",
       " 26.0,\n",
       " 27.0,\n",
       " 28.0,\n",
       " 29.0,\n",
       " 30.0]"
      ]
     },
     "execution_count": 89,
     "metadata": {},
     "output_type": "execute_result"
    }
   ],
   "source": [
    "# day_since_prior_order가 32이다. 어떤 구성일까?\n",
    "# 0과 NaN이 들어가 있음을 알 수 있음.\n",
    "sorted(orders.days_since_prior_order.unique())"
   ]
  },
  {
   "cell_type": "code",
   "execution_count": 9,
   "metadata": {
    "collapsed": false
   },
   "outputs": [
    {
     "data": {
      "text/plain": [
       "False    3214874\n",
       "True      206209\n",
       "Name: days_since_prior_order, dtype: int64"
      ]
     },
     "execution_count": 9,
     "metadata": {},
     "output_type": "execute_result"
    }
   ],
   "source": [
    "# nan값이 많은가?\n",
    "orders.days_since_prior_order.isnull().value_counts()"
   ]
  },
  {
   "cell_type": "code",
   "execution_count": 11,
   "metadata": {
    "collapsed": false,
    "scrolled": true
   },
   "outputs": [],
   "source": [
    "temp=orders.groupby(['user_id'])['days_since_prior_order'].value_counts()"
   ]
  },
  {
   "cell_type": "code",
   "execution_count": 87,
   "metadata": {
    "collapsed": false,
    "scrolled": false
   },
   "outputs": [
    {
     "data": {
      "text/plain": [
       "user_id  days_since_prior_order\n",
       "1        14.0                      2\n",
       "         0.0                       1\n",
       "         15.0                      1\n",
       "         19.0                      1\n",
       "         20.0                      1\n",
       "Name: days_since_prior_order, dtype: int64"
      ]
     },
     "execution_count": 87,
     "metadata": {},
     "output_type": "execute_result"
    }
   ],
   "source": [
    "temp.head()"
   ]
  },
  {
   "cell_type": "code",
   "execution_count": 13,
   "metadata": {
    "collapsed": false
   },
   "outputs": [],
   "source": [
    "temp2 = temp.reset_index(name='count')"
   ]
  },
  {
   "cell_type": "code",
   "execution_count": 14,
   "metadata": {
    "collapsed": false
   },
   "outputs": [
    {
     "name": "stderr",
     "output_type": "stream",
     "text": [
      "/Users/Glping/anaconda/lib/python2.7/site-packages/ipykernel/__main__.py:1: FutureWarning: sort(columns=....) is deprecated, use sort_values(by=.....)\n",
      "  if __name__ == '__main__':\n"
     ]
    }
   ],
   "source": [
    "days_max = temp2.sort('count', ascending=False).groupby('user_id', as_index=False).first()\n",
    "del days_max['count']\n",
    "days_max.columns = ['user_id', 'most_freq_days']"
   ]
  },
  {
   "cell_type": "code",
   "execution_count": 15,
   "metadata": {
    "collapsed": false
   },
   "outputs": [
    {
     "data": {
      "text/html": [
       "<div>\n",
       "<table border=\"1\" class=\"dataframe\">\n",
       "  <thead>\n",
       "    <tr style=\"text-align: right;\">\n",
       "      <th></th>\n",
       "      <th>user_id</th>\n",
       "      <th>most_freq_days</th>\n",
       "    </tr>\n",
       "  </thead>\n",
       "  <tbody>\n",
       "    <tr>\n",
       "      <th>0</th>\n",
       "      <td>1</td>\n",
       "      <td>14.0</td>\n",
       "    </tr>\n",
       "    <tr>\n",
       "      <th>1</th>\n",
       "      <td>2</td>\n",
       "      <td>8.0</td>\n",
       "    </tr>\n",
       "    <tr>\n",
       "      <th>2</th>\n",
       "      <td>3</td>\n",
       "      <td>7.0</td>\n",
       "    </tr>\n",
       "    <tr>\n",
       "      <th>3</th>\n",
       "      <td>4</td>\n",
       "      <td>30.0</td>\n",
       "    </tr>\n",
       "    <tr>\n",
       "      <th>4</th>\n",
       "      <td>5</td>\n",
       "      <td>10.0</td>\n",
       "    </tr>\n",
       "  </tbody>\n",
       "</table>\n",
       "</div>"
      ],
      "text/plain": [
       "   user_id  most_freq_days\n",
       "0        1            14.0\n",
       "1        2             8.0\n",
       "2        3             7.0\n",
       "3        4            30.0\n",
       "4        5            10.0"
      ]
     },
     "execution_count": 15,
     "metadata": {},
     "output_type": "execute_result"
    }
   ],
   "source": [
    "days_max.head()"
   ]
  },
  {
   "cell_type": "code",
   "execution_count": 27,
   "metadata": {
    "collapsed": false
   },
   "outputs": [],
   "source": [
    "orders_most = pd.merge(orders, days_max, on='user_id')\n",
    "# del final['count']"
   ]
  },
  {
   "cell_type": "code",
   "execution_count": 86,
   "metadata": {
    "collapsed": false
   },
   "outputs": [
    {
     "data": {
      "text/html": [
       "<div>\n",
       "<table border=\"1\" class=\"dataframe\">\n",
       "  <thead>\n",
       "    <tr style=\"text-align: right;\">\n",
       "      <th></th>\n",
       "      <th>order_id</th>\n",
       "      <th>user_id</th>\n",
       "      <th>eval_set</th>\n",
       "      <th>order_number</th>\n",
       "      <th>order_dow</th>\n",
       "      <th>order_hour_of_day</th>\n",
       "      <th>days_since_prior_order</th>\n",
       "      <th>most_freq_days</th>\n",
       "    </tr>\n",
       "  </thead>\n",
       "  <tbody>\n",
       "    <tr>\n",
       "      <th>0</th>\n",
       "      <td>2539329</td>\n",
       "      <td>1</td>\n",
       "      <td>prior</td>\n",
       "      <td>1</td>\n",
       "      <td>2</td>\n",
       "      <td>8</td>\n",
       "      <td>NaN</td>\n",
       "      <td>14.0</td>\n",
       "    </tr>\n",
       "    <tr>\n",
       "      <th>1</th>\n",
       "      <td>2398795</td>\n",
       "      <td>1</td>\n",
       "      <td>prior</td>\n",
       "      <td>2</td>\n",
       "      <td>3</td>\n",
       "      <td>7</td>\n",
       "      <td>15.0</td>\n",
       "      <td>14.0</td>\n",
       "    </tr>\n",
       "    <tr>\n",
       "      <th>2</th>\n",
       "      <td>473747</td>\n",
       "      <td>1</td>\n",
       "      <td>prior</td>\n",
       "      <td>3</td>\n",
       "      <td>3</td>\n",
       "      <td>12</td>\n",
       "      <td>21.0</td>\n",
       "      <td>14.0</td>\n",
       "    </tr>\n",
       "    <tr>\n",
       "      <th>3</th>\n",
       "      <td>2254736</td>\n",
       "      <td>1</td>\n",
       "      <td>prior</td>\n",
       "      <td>4</td>\n",
       "      <td>4</td>\n",
       "      <td>7</td>\n",
       "      <td>29.0</td>\n",
       "      <td>14.0</td>\n",
       "    </tr>\n",
       "    <tr>\n",
       "      <th>4</th>\n",
       "      <td>431534</td>\n",
       "      <td>1</td>\n",
       "      <td>prior</td>\n",
       "      <td>5</td>\n",
       "      <td>4</td>\n",
       "      <td>15</td>\n",
       "      <td>28.0</td>\n",
       "      <td>14.0</td>\n",
       "    </tr>\n",
       "  </tbody>\n",
       "</table>\n",
       "</div>"
      ],
      "text/plain": [
       "   order_id  user_id eval_set  order_number  order_dow  order_hour_of_day  \\\n",
       "0   2539329        1    prior             1          2                  8   \n",
       "1   2398795        1    prior             2          3                  7   \n",
       "2    473747        1    prior             3          3                 12   \n",
       "3   2254736        1    prior             4          4                  7   \n",
       "4    431534        1    prior             5          4                 15   \n",
       "\n",
       "   days_since_prior_order  most_freq_days  \n",
       "0                     NaN            14.0  \n",
       "1                    15.0            14.0  \n",
       "2                    21.0            14.0  \n",
       "3                    29.0            14.0  \n",
       "4                    28.0            14.0  "
      ]
     },
     "execution_count": 86,
     "metadata": {},
     "output_type": "execute_result"
    }
   ],
   "source": [
    "orders_most.head() # NaN 값을 대처하기 위해 most_freq_days넣음\n",
    "# 모두가 동일한 freq일 경우 첫번째 days를 most_freq_days로 함"
   ]
  },
  {
   "cell_type": "code",
   "execution_count": 29,
   "metadata": {
    "collapsed": true
   },
   "outputs": [],
   "source": [
    "# nan이 총 20만개\n",
    "# nan값을 어떻게 처리할 것인가?\n",
    "# 1. 평균값 2. 최빈도"
   ]
  },
  {
   "cell_type": "code",
   "execution_count": 30,
   "metadata": {
    "collapsed": false
   },
   "outputs": [],
   "source": [
    "# 중복된 order_id가 있는지 체크\n",
    "assert len(orders_most[\"order_id\"].unique()) == orders.shape[0]\n",
    "# user_id가 중간에 안 빠져있는가 체크\n",
    "assert len(orders_most[\"user_id\"].unique()) == orders.user_id.max()"
   ]
  },
  {
   "cell_type": "code",
   "execution_count": 31,
   "metadata": {
    "collapsed": true
   },
   "outputs": [],
   "source": [
    "# ==> user_id당 order_id가 부여되는 것이 아니라 전체에 대해서 uniq하게 부여되는 것임을 알 수 있음"
   ]
  },
  {
   "cell_type": "code",
   "execution_count": 32,
   "metadata": {
    "collapsed": false
   },
   "outputs": [
    {
     "name": "stdout",
     "output_type": "stream",
     "text": [
      "[  1   2   3   4   5   6   7   8   9  10  11  12  13  14  15  16  17  18\n",
      "  19  20  21  22  23  24  25  26  27  28  29  30  31  32  33  34  35  36\n",
      "  37  38  39  40  41  42  43  44  45  46  47  48  49  50  51  52  53  54\n",
      "  55  56  57  58  59  60  61  62  63  64  65  66  67  68  69  70  71  72\n",
      "  73  74  75  76  77  78  79  80  81  82  83  84  85  86  87  88  89  90\n",
      "  91  92  93  94  95  96  97  98  99 100]\n"
     ]
    }
   ],
   "source": [
    "# order_number가 종류가 100가지\n",
    "print orders_most.order_number.unique()"
   ]
  },
  {
   "cell_type": "code",
   "execution_count": 24,
   "metadata": {
    "collapsed": false
   },
   "outputs": [
    {
     "name": "stdout",
     "output_type": "stream",
     "text": [
      "order_number\n",
      "1      206209\n",
      "2      206209\n",
      "3      206209\n",
      "4      206209\n",
      "5      182223\n",
      "6      162633\n",
      "7      146468\n",
      "8      132618\n",
      "9      120918\n",
      "10     110728\n",
      "11     101696\n",
      "12      93881\n",
      "13      86929\n",
      "14      80693\n",
      "15      75080\n",
      "16      69889\n",
      "17      65296\n",
      "18      61157\n",
      "19      57321\n",
      "20      53931\n",
      "21      50731\n",
      "22      47810\n",
      "23      45104\n",
      "24      42499\n",
      "25      40211\n",
      "26      38025\n",
      "27      35965\n",
      "28      34057\n",
      "29      32278\n",
      "30      30677\n",
      "        ...  \n",
      "71       4235\n",
      "72       4081\n",
      "73       3915\n",
      "74       3777\n",
      "75       3615\n",
      "76       3453\n",
      "77       3319\n",
      "78       3199\n",
      "79       3072\n",
      "80       2945\n",
      "81       2829\n",
      "82       2721\n",
      "83       2602\n",
      "84       2516\n",
      "85       2417\n",
      "86       2317\n",
      "87       2224\n",
      "88       2146\n",
      "89       2067\n",
      "90       1990\n",
      "91       1905\n",
      "92       1849\n",
      "93       1780\n",
      "94       1713\n",
      "95       1656\n",
      "96       1592\n",
      "97       1525\n",
      "98       1471\n",
      "99       1421\n",
      "100      1374\n",
      "Name: order_number, dtype: int64\n",
      "====================\n",
      "order_dow\n",
      "0    600905\n",
      "1    587478\n",
      "2    467260\n",
      "5    453368\n",
      "6    448761\n",
      "3    436972\n",
      "4    426339\n",
      "Name: order_dow, dtype: int64\n",
      "====================\n",
      "order_hour_of_day\n",
      "10    288418\n",
      "11    284728\n",
      "15    283639\n",
      "14    283042\n",
      "13    277999\n",
      "12    272841\n",
      "16    272553\n",
      "9     257812\n",
      "17    228795\n",
      "18    182912\n",
      "8     178201\n",
      "19    140569\n",
      "20    104292\n",
      "7      91868\n",
      "21     78109\n",
      "22     61468\n",
      "23     40043\n",
      "6      30529\n",
      "0      22758\n",
      "1      12398\n",
      "5       9569\n",
      "2       7539\n",
      "4       5527\n",
      "3       5474\n",
      "Name: order_hour_of_day, dtype: int64\n",
      "====================\n",
      "days_since_prior_order\n",
      "30.0    369323\n",
      "7.0     320608\n",
      "6.0     240013\n",
      "4.0     221696\n",
      "3.0     217005\n",
      "5.0     214503\n",
      "2.0     193206\n",
      "8.0     181717\n",
      "1.0     145247\n",
      "9.0     118188\n",
      "14.0    100230\n",
      "10.0     95186\n",
      "13.0     83214\n",
      "11.0     80970\n",
      "12.0     76146\n",
      "0.0      67755\n",
      "15.0     66579\n",
      "16.0     46941\n",
      "21.0     45470\n",
      "17.0     39245\n",
      "20.0     38527\n",
      "18.0     35881\n",
      "19.0     34384\n",
      "22.0     32012\n",
      "28.0     26777\n",
      "23.0     23885\n",
      "27.0     22013\n",
      "24.0     20712\n",
      "25.0     19234\n",
      "29.0     19191\n",
      "26.0     19016\n",
      "Name: days_since_prior_order, dtype: int64\n",
      "====================\n"
     ]
    }
   ],
   "source": [
    "statistics_cols = [\"order_number\", \"order_dow\", \"order_hour_of_day\", \"days_since_prior_order\"]\n",
    "for col in statistics_cols:\n",
    "    print col\n",
    "    print orders[col].value_counts()\n",
    "    print '='*20"
   ]
  },
  {
   "cell_type": "code",
   "execution_count": 25,
   "metadata": {
    "collapsed": true
   },
   "outputs": [],
   "source": [
    "# 모든 유저가 최소 4번 instacart를 이용함"
   ]
  },
  {
   "cell_type": "code",
   "execution_count": 51,
   "metadata": {
    "collapsed": false
   },
   "outputs": [
    {
     "data": {
      "image/png": "[encoded data removed]",
      "text/plain": [
       "<matplotlib.figure.Figure at 0x1107db350>"
      ]
     },
     "metadata": {},
     "output_type": "display_data"
    }
   ],
   "source": [
    "orders_dow = orders_most[\"order_dow\"] \\\n",
    "             .value_counts(sort=False)\n",
    "plt.figure(figsize=(10,10))\n",
    "orders_dow.plot.bar()\n",
    "plt.show()"
   ]
  },
  {
   "cell_type": "code",
   "execution_count": 38,
   "metadata": {
    "collapsed": false
   },
   "outputs": [
    {
     "data": {
      "text/plain": [
       "0    600905\n",
       "1    587478\n",
       "2    467260\n",
       "3    436972\n",
       "4    426339\n",
       "5    453368\n",
       "6    448761\n",
       "Name: order_dow, dtype: int64"
      ]
     },
     "execution_count": 38,
     "metadata": {},
     "output_type": "execute_result"
    }
   ],
   "source": [
    "orders_dow"
   ]
  },
  {
   "cell_type": "code",
   "execution_count": 59,
   "metadata": {
    "collapsed": false
   },
   "outputs": [],
   "source": [
    "orders_hour_count_per_dow = orders_most.groupby(['order_dow'])['order_hour_of_day'].value_counts(sort=False).reset_index(name='h_cnt')"
   ]
  },
  {
   "cell_type": "code",
   "execution_count": 60,
   "metadata": {
    "collapsed": true
   },
   "outputs": [],
   "source": [
    "# 0과 1에서 주로 이용\n",
    "# Q. 요일마다의 사용시간 분포, 물품 구매 분포는 유사할까?"
   ]
  },
  {
   "cell_type": "code",
   "execution_count": 61,
   "metadata": {
    "collapsed": false
   },
   "outputs": [
    {
     "data": {
      "text/html": [
       "<div>\n",
       "<table border=\"1\" class=\"dataframe\">\n",
       "  <thead>\n",
       "    <tr style=\"text-align: right;\">\n",
       "      <th></th>\n",
       "      <th>order_dow</th>\n",
       "      <th>order_hour_of_day</th>\n",
       "      <th>h_cnt</th>\n",
       "    </tr>\n",
       "  </thead>\n",
       "  <tbody>\n",
       "    <tr>\n",
       "      <th>0</th>\n",
       "      <td>0</td>\n",
       "      <td>0</td>\n",
       "      <td>3936</td>\n",
       "    </tr>\n",
       "    <tr>\n",
       "      <th>1</th>\n",
       "      <td>0</td>\n",
       "      <td>1</td>\n",
       "      <td>2398</td>\n",
       "    </tr>\n",
       "    <tr>\n",
       "      <th>2</th>\n",
       "      <td>0</td>\n",
       "      <td>2</td>\n",
       "      <td>1409</td>\n",
       "    </tr>\n",
       "    <tr>\n",
       "      <th>3</th>\n",
       "      <td>0</td>\n",
       "      <td>3</td>\n",
       "      <td>963</td>\n",
       "    </tr>\n",
       "    <tr>\n",
       "      <th>4</th>\n",
       "      <td>0</td>\n",
       "      <td>4</td>\n",
       "      <td>813</td>\n",
       "    </tr>\n",
       "  </tbody>\n",
       "</table>\n",
       "</div>"
      ],
      "text/plain": [
       "   order_dow  order_hour_of_day  h_cnt\n",
       "0          0                  0   3936\n",
       "1          0                  1   2398\n",
       "2          0                  2   1409\n",
       "3          0                  3    963\n",
       "4          0                  4    813"
      ]
     },
     "execution_count": 61,
     "metadata": {},
     "output_type": "execute_result"
    }
   ],
   "source": [
    "orders_hour_count_per_dow.head()"
   ]
  },
  {
   "cell_type": "code",
   "execution_count": 74,
   "metadata": {
    "collapsed": false,
    "scrolled": false
   },
   "outputs": [
    {
     "data": {
      "image/png": "[encoded data removed]",
      "text/plain": [
       "<matplotlib.figure.Figure at 0x115d69890>"
      ]
     },
     "metadata": {},
     "output_type": "display_data"
    },
    {
     "data": {
      "image/png": "[encoded data removed]",
      "text/plain": [
       "<matplotlib.figure.Figure at 0x116bba750>"
      ]
     },
     "metadata": {},
     "output_type": "display_data"
    },
    {
     "data": {
      "image/png": "[encoded data removed]",
      "text/plain": [
       "<matplotlib.figure.Figure at 0x116d56690>"
      ]
     },
     "metadata": {},
     "output_type": "display_data"
    },
    {
     "data": {
      "image/png": "[encoded data removed]",
      "text/plain": [
       "<matplotlib.figure.Figure at 0x116eef690>"
      ]
     },
     "metadata": {},
     "output_type": "display_data"
    },
    {
     "data": {
      "image/png": "[encoded data removed]",
      "text/plain": [
       "<matplotlib.figure.Figure at 0x116fea890>"
      ]
     },
     "metadata": {},
     "output_type": "display_data"
    },
    {
     "data": {
      "image/png": "[encoded data removed]",
      "text/plain": [
       "<matplotlib.figure.Figure at 0x116341c50>"
      ]
     },
     "metadata": {},
     "output_type": "display_data"
    },
    {
     "data": {
      "image/png": "[encoded data removed]",
      "text/plain": [
       "<matplotlib.figure.Figure at 0x116520cd0>"
      ]
     },
     "metadata": {},
     "output_type": "display_data"
    }
   ],
   "source": [
    "# fig, ax = plt.subplots()\n",
    "colors = {1:'red', 2:'blue', 3:'green', 4:'black', 5:'pink', 6:'yellow', 0:'brown'}\n",
    "for title, group in orders_hour_count_per_dow.groupby('order_dow'):\n",
    "    group.plot(x='order_hour_of_day', y='h_cnt', label=title, kind='bar', color=colors[title])"
   ]
  },
  {
   "cell_type": "code",
   "execution_count": 76,
   "metadata": {
    "collapsed": true
   },
   "outputs": [],
   "source": [
    "# 0과 6이 비슷한 양상을 띄는 것으로 보아 토,일 이라 예상됨\n",
    "# 평일은 1에서의 12-16시까지의 패턴제외, 나머지 거의 유사한 패턴을 보임\n",
    "# 평균이 약간 치우쳐 있으나 정규분포를 그린다고 볼 수 있겠다."
   ]
  },
  {
   "cell_type": "code",
   "execution_count": 14,
   "metadata": {
    "collapsed": false
   },
   "outputs": [
    {
     "data": {
      "image/png": "[encoded data removed]",
      "text/plain": [
       "<matplotlib.figure.Figure at 0x10f799410>"
      ]
     },
     "metadata": {},
     "output_type": "display_data"
    }
   ],
   "source": [
    "order_hour_of_day = orders[\"order_hour_of_day\"] \\\n",
    "                    .value_counts(sort=False)\n",
    "plt.figure(figsize=(10,10))\n",
    "order_hour_of_day.plot.bar()\n",
    "plt.show()"
   ]
  },
  {
   "cell_type": "code",
   "execution_count": 15,
   "metadata": {
    "collapsed": false
   },
   "outputs": [
    {
     "data": {
      "image/png": "[encoded data removed]",
      "text/plain": [
       "<matplotlib.figure.Figure at 0x119e07250>"
      ]
     },
     "metadata": {},
     "output_type": "display_data"
    }
   ],
   "source": [
    "days_since_prior_order = orders[\"days_since_prior_order\"] \\\n",
    "                         .value_counts(sort=False)\n",
    "plt.figure(figsize=(10,10))\n",
    "days_since_prior_order.plot.bar()\n",
    "plt.show()"
   ]
  },
  {
   "cell_type": "code",
   "execution_count": 77,
   "metadata": {
    "collapsed": true
   },
   "outputs": [],
   "source": [
    "# 7과 30이 제일 크다. 정기적 배송이라고 생각되는데...\n",
    "# 1. 어떤 요일에 가장 정기배송이 많을까? => 월요일과 금,혹은 토요일이 가장 많을거 같은데\n",
    "# 2. 정기배송이라 생각한다면 물품의 종류를 보면 알 수 있지 않을까?"
   ]
  },
  {
   "cell_type": "code",
   "execution_count": 80,
   "metadata": {
    "collapsed": false
   },
   "outputs": [],
   "source": [
    "rel_bw_prior_dow = orders_most.groupby('days_since_prior_order')['order_dow'].value_counts(sort=False).reset_index(name='count')"
   ]
  },
  {
   "cell_type": "code",
   "execution_count": 120,
   "metadata": {
    "collapsed": true
   },
   "outputs": [],
   "source": [
    "rel_bw_prior_hod = orders_most.groupby('days_since_prior_order')['order_hour_of_day'].value_counts(sort=False).reset_index(name='count')"
   ]
  },
  {
   "cell_type": "code",
   "execution_count": 83,
   "metadata": {
    "collapsed": false,
    "scrolled": false
   },
   "outputs": [
    {
     "data": {
      "image/png": "[encoded data removed]",
      "text/plain": [
       "<matplotlib.figure.Figure at 0x118725710>"
      ]
     },
     "metadata": {},
     "output_type": "display_data"
    },
    {
     "data": {
      "image/png": "[encoded data removed]",
      "text/plain": [
       "<matplotlib.figure.Figure at 0x11c916a10>"
      ]
     },
     "metadata": {},
     "output_type": "display_data"
    }
   ],
   "source": [
    "# fig, ax = plt.subplots()\n",
    "# colors = {1:'red', 2:'blue', 3:'green', 4:'black', 5:'pink', 6:'yellow', 0:'brown'}\n",
    "for title, group in rel_bw_prior_dow.groupby('days_since_prior_order'):\n",
    "    if title == 7.0 or title == 30.0:\n",
    "        group.plot(x='order_dow', y='count', label=title, kind='line')"
   ]
  },
  {
   "cell_type": "code",
   "execution_count": 121,
   "metadata": {
    "collapsed": false
   },
   "outputs": [
    {
     "data": {
      "image/png": "[encoded data removed]",
      "text/plain": [
       "<matplotlib.figure.Figure at 0x11db846d0>"
      ]
     },
     "metadata": {},
     "output_type": "display_data"
    },
    {
     "data": {
      "image/png": "[encoded data removed]",
      "text/plain": [
       "<matplotlib.figure.Figure at 0x11590fa90>"
      ]
     },
     "metadata": {},
     "output_type": "display_data"
    }
   ],
   "source": [
    "for title, group in rel_bw_prior_hod.groupby('days_since_prior_order'):\n",
    "    if title == 7.0 or title == 30.0:\n",
    "        group.plot(x='order_hour_of_day', y='count', label=title, kind='line')"
   ]
  },
  {
   "cell_type": "code",
   "execution_count": 122,
   "metadata": {
    "collapsed": true
   },
   "outputs": [],
   "source": [
    "# 정기배송으로 추정되는 날에 주로 주문한 시각을 그래프로 나타냄\n",
    "# 7일의 텀이 있을 경우 오전 10시에, 30일의 텀이 있을 경우 오후 3시에 가장 많은 것으로 나타남"
   ]
  },
  {
   "cell_type": "code",
   "execution_count": 92,
   "metadata": {
    "collapsed": false
   },
   "outputs": [],
   "source": [
    "aisles = pd.read_csv('../dataset/aisles.csv')"
   ]
  },
  {
   "cell_type": "code",
   "execution_count": 93,
   "metadata": {
    "collapsed": false
   },
   "outputs": [
    {
     "data": {
      "text/plain": [
       "aisle_id     int64:dense\n",
       "aisle       object:dense\n",
       "dtype: object"
      ]
     },
     "execution_count": 93,
     "metadata": {},
     "output_type": "execute_result"
    }
   ],
   "source": [
    "aisles.ftypes"
   ]
  },
  {
   "cell_type": "code",
   "execution_count": 94,
   "metadata": {
    "collapsed": false,
    "scrolled": true
   },
   "outputs": [
    {
     "name": "stdout",
     "output_type": "stream",
     "text": [
      "aisles:  (134, 2)\n",
      "====================\n"
     ]
    },
    {
     "data": {
      "text/html": [
       "<div>\n",
       "<table border=\"1\" class=\"dataframe\">\n",
       "  <thead>\n",
       "    <tr style=\"text-align: right;\">\n",
       "      <th></th>\n",
       "      <th>aisle_id</th>\n",
       "      <th>aisle</th>\n",
       "    </tr>\n",
       "  </thead>\n",
       "  <tbody>\n",
       "    <tr>\n",
       "      <th>129</th>\n",
       "      <td>130</td>\n",
       "      <td>hot cereal pancake mixes</td>\n",
       "    </tr>\n",
       "    <tr>\n",
       "      <th>130</th>\n",
       "      <td>131</td>\n",
       "      <td>dry pasta</td>\n",
       "    </tr>\n",
       "    <tr>\n",
       "      <th>131</th>\n",
       "      <td>132</td>\n",
       "      <td>beauty</td>\n",
       "    </tr>\n",
       "    <tr>\n",
       "      <th>132</th>\n",
       "      <td>133</td>\n",
       "      <td>muscles joints pain relief</td>\n",
       "    </tr>\n",
       "    <tr>\n",
       "      <th>133</th>\n",
       "      <td>134</td>\n",
       "      <td>specialty wines champagnes</td>\n",
       "    </tr>\n",
       "  </tbody>\n",
       "</table>\n",
       "</div>"
      ],
      "text/plain": [
       "     aisle_id                       aisle\n",
       "129       130    hot cereal pancake mixes\n",
       "130       131                   dry pasta\n",
       "131       132                      beauty\n",
       "132       133  muscles joints pain relief\n",
       "133       134  specialty wines champagnes"
      ]
     },
     "execution_count": 94,
     "metadata": {},
     "output_type": "execute_result"
    }
   ],
   "source": [
    "print 'aisles: ', aisles.shape\n",
    "print '=' * 20\n",
    "aisles.tail()"
   ]
  },
  {
   "cell_type": "code",
   "execution_count": 95,
   "metadata": {
    "collapsed": true
   },
   "outputs": [],
   "source": [
    "departments = pd.read_csv('../dataset/departments.csv')"
   ]
  },
  {
   "cell_type": "code",
   "execution_count": 96,
   "metadata": {
    "collapsed": false,
    "scrolled": true
   },
   "outputs": [
    {
     "name": "stdout",
     "output_type": "stream",
     "text": [
      "dept:  (21, 2)\n",
      "====================\n"
     ]
    },
    {
     "data": {
      "text/html": [
       "<div>\n",
       "<table border=\"1\" class=\"dataframe\">\n",
       "  <thead>\n",
       "    <tr style=\"text-align: right;\">\n",
       "      <th></th>\n",
       "      <th>department_id</th>\n",
       "      <th>department</th>\n",
       "    </tr>\n",
       "  </thead>\n",
       "  <tbody>\n",
       "    <tr>\n",
       "      <th>0</th>\n",
       "      <td>1</td>\n",
       "      <td>frozen</td>\n",
       "    </tr>\n",
       "    <tr>\n",
       "      <th>1</th>\n",
       "      <td>2</td>\n",
       "      <td>other</td>\n",
       "    </tr>\n",
       "    <tr>\n",
       "      <th>2</th>\n",
       "      <td>3</td>\n",
       "      <td>bakery</td>\n",
       "    </tr>\n",
       "    <tr>\n",
       "      <th>3</th>\n",
       "      <td>4</td>\n",
       "      <td>produce</td>\n",
       "    </tr>\n",
       "    <tr>\n",
       "      <th>4</th>\n",
       "      <td>5</td>\n",
       "      <td>alcohol</td>\n",
       "    </tr>\n",
       "    <tr>\n",
       "      <th>5</th>\n",
       "      <td>6</td>\n",
       "      <td>international</td>\n",
       "    </tr>\n",
       "    <tr>\n",
       "      <th>6</th>\n",
       "      <td>7</td>\n",
       "      <td>beverages</td>\n",
       "    </tr>\n",
       "    <tr>\n",
       "      <th>7</th>\n",
       "      <td>8</td>\n",
       "      <td>pets</td>\n",
       "    </tr>\n",
       "    <tr>\n",
       "      <th>8</th>\n",
       "      <td>9</td>\n",
       "      <td>dry goods pasta</td>\n",
       "    </tr>\n",
       "    <tr>\n",
       "      <th>9</th>\n",
       "      <td>10</td>\n",
       "      <td>bulk</td>\n",
       "    </tr>\n",
       "    <tr>\n",
       "      <th>10</th>\n",
       "      <td>11</td>\n",
       "      <td>personal care</td>\n",
       "    </tr>\n",
       "    <tr>\n",
       "      <th>11</th>\n",
       "      <td>12</td>\n",
       "      <td>meat seafood</td>\n",
       "    </tr>\n",
       "    <tr>\n",
       "      <th>12</th>\n",
       "      <td>13</td>\n",
       "      <td>pantry</td>\n",
       "    </tr>\n",
       "    <tr>\n",
       "      <th>13</th>\n",
       "      <td>14</td>\n",
       "      <td>breakfast</td>\n",
       "    </tr>\n",
       "    <tr>\n",
       "      <th>14</th>\n",
       "      <td>15</td>\n",
       "      <td>canned goods</td>\n",
       "    </tr>\n",
       "    <tr>\n",
       "      <th>15</th>\n",
       "      <td>16</td>\n",
       "      <td>dairy eggs</td>\n",
       "    </tr>\n",
       "    <tr>\n",
       "      <th>16</th>\n",
       "      <td>17</td>\n",
       "      <td>household</td>\n",
       "    </tr>\n",
       "    <tr>\n",
       "      <th>17</th>\n",
       "      <td>18</td>\n",
       "      <td>babies</td>\n",
       "    </tr>\n",
       "    <tr>\n",
       "      <th>18</th>\n",
       "      <td>19</td>\n",
       "      <td>snacks</td>\n",
       "    </tr>\n",
       "    <tr>\n",
       "      <th>19</th>\n",
       "      <td>20</td>\n",
       "      <td>deli</td>\n",
       "    </tr>\n",
       "    <tr>\n",
       "      <th>20</th>\n",
       "      <td>21</td>\n",
       "      <td>missing</td>\n",
       "    </tr>\n",
       "  </tbody>\n",
       "</table>\n",
       "</div>"
      ],
      "text/plain": [
       "    department_id       department\n",
       "0               1           frozen\n",
       "1               2            other\n",
       "2               3           bakery\n",
       "3               4          produce\n",
       "4               5          alcohol\n",
       "5               6    international\n",
       "6               7        beverages\n",
       "7               8             pets\n",
       "8               9  dry goods pasta\n",
       "9              10             bulk\n",
       "10             11    personal care\n",
       "11             12     meat seafood\n",
       "12             13           pantry\n",
       "13             14        breakfast\n",
       "14             15     canned goods\n",
       "15             16       dairy eggs\n",
       "16             17        household\n",
       "17             18           babies\n",
       "18             19           snacks\n",
       "19             20             deli\n",
       "20             21          missing"
      ]
     },
     "execution_count": 96,
     "metadata": {},
     "output_type": "execute_result"
    }
   ],
   "source": [
    "print 'dept: ', departments.shape\n",
    "print '='*20\n",
    "departments"
   ]
  },
  {
   "cell_type": "code",
   "execution_count": 97,
   "metadata": {
    "collapsed": true
   },
   "outputs": [],
   "source": [
    "products = pd.read_csv('../dataset/products.csv')"
   ]
  },
  {
   "cell_type": "code",
   "execution_count": 98,
   "metadata": {
    "collapsed": false
   },
   "outputs": [
    {
     "name": "stdout",
     "output_type": "stream",
     "text": [
      "products:  (49688, 4)\n",
      "====================\n"
     ]
    },
    {
     "data": {
      "text/html": [
       "<div>\n",
       "<table border=\"1\" class=\"dataframe\">\n",
       "  <thead>\n",
       "    <tr style=\"text-align: right;\">\n",
       "      <th></th>\n",
       "      <th>product_id</th>\n",
       "      <th>product_name</th>\n",
       "      <th>aisle_id</th>\n",
       "      <th>department_id</th>\n",
       "    </tr>\n",
       "  </thead>\n",
       "  <tbody>\n",
       "    <tr>\n",
       "      <th>49683</th>\n",
       "      <td>49684</td>\n",
       "      <td>Vodka, Triple Distilled, Twist of Vanilla</td>\n",
       "      <td>124</td>\n",
       "      <td>5</td>\n",
       "    </tr>\n",
       "    <tr>\n",
       "      <th>49684</th>\n",
       "      <td>49685</td>\n",
       "      <td>En Croute Roast Hazelnut Cranberry</td>\n",
       "      <td>42</td>\n",
       "      <td>1</td>\n",
       "    </tr>\n",
       "    <tr>\n",
       "      <th>49685</th>\n",
       "      <td>49686</td>\n",
       "      <td>Artisan Baguette</td>\n",
       "      <td>112</td>\n",
       "      <td>3</td>\n",
       "    </tr>\n",
       "    <tr>\n",
       "      <th>49686</th>\n",
       "      <td>49687</td>\n",
       "      <td>Smartblend Healthy Metabolism Dry Cat Food</td>\n",
       "      <td>41</td>\n",
       "      <td>8</td>\n",
       "    </tr>\n",
       "    <tr>\n",
       "      <th>49687</th>\n",
       "      <td>49688</td>\n",
       "      <td>Fresh Foaming Cleanser</td>\n",
       "      <td>73</td>\n",
       "      <td>11</td>\n",
       "    </tr>\n",
       "  </tbody>\n",
       "</table>\n",
       "</div>"
      ],
      "text/plain": [
       "       product_id                                product_name  aisle_id  \\\n",
       "49683       49684   Vodka, Triple Distilled, Twist of Vanilla       124   \n",
       "49684       49685          En Croute Roast Hazelnut Cranberry        42   \n",
       "49685       49686                            Artisan Baguette       112   \n",
       "49686       49687  Smartblend Healthy Metabolism Dry Cat Food        41   \n",
       "49687       49688                      Fresh Foaming Cleanser        73   \n",
       "\n",
       "       department_id  \n",
       "49683              5  \n",
       "49684              1  \n",
       "49685              3  \n",
       "49686              8  \n",
       "49687             11  "
      ]
     },
     "execution_count": 98,
     "metadata": {},
     "output_type": "execute_result"
    }
   ],
   "source": [
    "print 'products: ', products.shape\n",
    "print '='*20\n",
    "products.tail()"
   ]
  },
  {
   "cell_type": "markdown",
   "metadata": {},
   "source": [
    "## Concate tables"
   ]
  },
  {
   "cell_type": "code",
   "execution_count": 99,
   "metadata": {
    "collapsed": false
   },
   "outputs": [],
   "source": [
    "concat_pdt_dept = pd.merge(products, departments, on=\"department_id\")"
   ]
  },
  {
   "cell_type": "code",
   "execution_count": 100,
   "metadata": {
    "collapsed": false
   },
   "outputs": [
    {
     "name": "stdout",
     "output_type": "stream",
     "text": [
      "after concat:  (49688, 5)\n",
      "====================\n"
     ]
    },
    {
     "data": {
      "text/html": [
       "<div>\n",
       "<table border=\"1\" class=\"dataframe\">\n",
       "  <thead>\n",
       "    <tr style=\"text-align: right;\">\n",
       "      <th></th>\n",
       "      <th>product_id</th>\n",
       "      <th>product_name</th>\n",
       "      <th>aisle_id</th>\n",
       "      <th>department_id</th>\n",
       "      <th>department</th>\n",
       "    </tr>\n",
       "  </thead>\n",
       "  <tbody>\n",
       "    <tr>\n",
       "      <th>49683</th>\n",
       "      <td>43769</td>\n",
       "      <td>Organic Pearled Barley</td>\n",
       "      <td>68</td>\n",
       "      <td>10</td>\n",
       "      <td>bulk</td>\n",
       "    </tr>\n",
       "    <tr>\n",
       "      <th>49684</th>\n",
       "      <td>45682</td>\n",
       "      <td>Organic Turkish Apricots</td>\n",
       "      <td>68</td>\n",
       "      <td>10</td>\n",
       "      <td>bulk</td>\n",
       "    </tr>\n",
       "    <tr>\n",
       "      <th>49685</th>\n",
       "      <td>46889</td>\n",
       "      <td>Organic Brown Basmati Rice</td>\n",
       "      <td>68</td>\n",
       "      <td>10</td>\n",
       "      <td>bulk</td>\n",
       "    </tr>\n",
       "    <tr>\n",
       "      <th>49686</th>\n",
       "      <td>47489</td>\n",
       "      <td>Organic Brown Jasmine Rice</td>\n",
       "      <td>68</td>\n",
       "      <td>10</td>\n",
       "      <td>bulk</td>\n",
       "    </tr>\n",
       "    <tr>\n",
       "      <th>49687</th>\n",
       "      <td>48778</td>\n",
       "      <td>Fit Super A Juice, Cold Pressed, Carrot/Apple/...</td>\n",
       "      <td>18</td>\n",
       "      <td>10</td>\n",
       "      <td>bulk</td>\n",
       "    </tr>\n",
       "  </tbody>\n",
       "</table>\n",
       "</div>"
      ],
      "text/plain": [
       "       product_id                                       product_name  \\\n",
       "49683       43769                             Organic Pearled Barley   \n",
       "49684       45682                           Organic Turkish Apricots   \n",
       "49685       46889                         Organic Brown Basmati Rice   \n",
       "49686       47489                         Organic Brown Jasmine Rice   \n",
       "49687       48778  Fit Super A Juice, Cold Pressed, Carrot/Apple/...   \n",
       "\n",
       "       aisle_id  department_id department  \n",
       "49683        68             10       bulk  \n",
       "49684        68             10       bulk  \n",
       "49685        68             10       bulk  \n",
       "49686        68             10       bulk  \n",
       "49687        18             10       bulk  "
      ]
     },
     "execution_count": 100,
     "metadata": {},
     "output_type": "execute_result"
    }
   ],
   "source": [
    "print 'after concat: ', concat_pdt_dept.shape\n",
    "print '='*20\n",
    "concat_pdt_dept.tail()"
   ]
  },
  {
   "cell_type": "code",
   "execution_count": 101,
   "metadata": {
    "collapsed": false
   },
   "outputs": [],
   "source": [
    "concat_aisle = pd.merge(concat_pdt_dept, aisles, on=\"aisle_id\")"
   ]
  },
  {
   "cell_type": "code",
   "execution_count": 102,
   "metadata": {
    "collapsed": false
   },
   "outputs": [
    {
     "name": "stdout",
     "output_type": "stream",
     "text": [
      "after concat:  (49688, 6)\n",
      "====================\n"
     ]
    },
    {
     "data": {
      "text/html": [
       "<div>\n",
       "<table border=\"1\" class=\"dataframe\">\n",
       "  <thead>\n",
       "    <tr style=\"text-align: right;\">\n",
       "      <th></th>\n",
       "      <th>product_id</th>\n",
       "      <th>product_name</th>\n",
       "      <th>aisle_id</th>\n",
       "      <th>department_id</th>\n",
       "      <th>department</th>\n",
       "      <th>aisle</th>\n",
       "    </tr>\n",
       "  </thead>\n",
       "  <tbody>\n",
       "    <tr>\n",
       "      <th>49683</th>\n",
       "      <td>22827</td>\n",
       "      <td>Organic Black Mission Figs</td>\n",
       "      <td>18</td>\n",
       "      <td>10</td>\n",
       "      <td>bulk</td>\n",
       "      <td>bulk dried fruits vegetables</td>\n",
       "    </tr>\n",
       "    <tr>\n",
       "      <th>49684</th>\n",
       "      <td>28655</td>\n",
       "      <td>Crystallized Ginger Chunks</td>\n",
       "      <td>18</td>\n",
       "      <td>10</td>\n",
       "      <td>bulk</td>\n",
       "      <td>bulk dried fruits vegetables</td>\n",
       "    </tr>\n",
       "    <tr>\n",
       "      <th>49685</th>\n",
       "      <td>30365</td>\n",
       "      <td>Vegetable Chips</td>\n",
       "      <td>18</td>\n",
       "      <td>10</td>\n",
       "      <td>bulk</td>\n",
       "      <td>bulk dried fruits vegetables</td>\n",
       "    </tr>\n",
       "    <tr>\n",
       "      <th>49686</th>\n",
       "      <td>38007</td>\n",
       "      <td>Naturally Sweet Plantain Chips</td>\n",
       "      <td>18</td>\n",
       "      <td>10</td>\n",
       "      <td>bulk</td>\n",
       "      <td>bulk dried fruits vegetables</td>\n",
       "    </tr>\n",
       "    <tr>\n",
       "      <th>49687</th>\n",
       "      <td>48778</td>\n",
       "      <td>Fit Super A Juice, Cold Pressed, Carrot/Apple/...</td>\n",
       "      <td>18</td>\n",
       "      <td>10</td>\n",
       "      <td>bulk</td>\n",
       "      <td>bulk dried fruits vegetables</td>\n",
       "    </tr>\n",
       "  </tbody>\n",
       "</table>\n",
       "</div>"
      ],
      "text/plain": [
       "       product_id                                       product_name  \\\n",
       "49683       22827                         Organic Black Mission Figs   \n",
       "49684       28655                         Crystallized Ginger Chunks   \n",
       "49685       30365                                    Vegetable Chips   \n",
       "49686       38007                     Naturally Sweet Plantain Chips   \n",
       "49687       48778  Fit Super A Juice, Cold Pressed, Carrot/Apple/...   \n",
       "\n",
       "       aisle_id  department_id department                         aisle  \n",
       "49683        18             10       bulk  bulk dried fruits vegetables  \n",
       "49684        18             10       bulk  bulk dried fruits vegetables  \n",
       "49685        18             10       bulk  bulk dried fruits vegetables  \n",
       "49686        18             10       bulk  bulk dried fruits vegetables  \n",
       "49687        18             10       bulk  bulk dried fruits vegetables  "
      ]
     },
     "execution_count": 102,
     "metadata": {},
     "output_type": "execute_result"
    }
   ],
   "source": [
    "print 'after concat: ', concat_aisle.shape\n",
    "print '='*20\n",
    "concat_aisle.tail()"
   ]
  },
  {
   "cell_type": "code",
   "execution_count": 103,
   "metadata": {
    "collapsed": true
   },
   "outputs": [],
   "source": [
    "col_list = concat_aisle.columns.tolist()\n",
    "new_cols = col_list[:3] + [col_list[-1]] + col_list[3:-1]\n",
    "concat_aisle_rearr = concat_aisle[new_cols]"
   ]
  },
  {
   "cell_type": "code",
   "execution_count": 104,
   "metadata": {
    "collapsed": false
   },
   "outputs": [
    {
     "data": {
      "text/html": [
       "<div>\n",
       "<table border=\"1\" class=\"dataframe\">\n",
       "  <thead>\n",
       "    <tr style=\"text-align: right;\">\n",
       "      <th></th>\n",
       "      <th>product_id</th>\n",
       "      <th>product_name</th>\n",
       "      <th>aisle_id</th>\n",
       "      <th>aisle</th>\n",
       "      <th>department_id</th>\n",
       "      <th>department</th>\n",
       "    </tr>\n",
       "  </thead>\n",
       "  <tbody>\n",
       "    <tr>\n",
       "      <th>49683</th>\n",
       "      <td>22827</td>\n",
       "      <td>Organic Black Mission Figs</td>\n",
       "      <td>18</td>\n",
       "      <td>bulk dried fruits vegetables</td>\n",
       "      <td>10</td>\n",
       "      <td>bulk</td>\n",
       "    </tr>\n",
       "    <tr>\n",
       "      <th>49684</th>\n",
       "      <td>28655</td>\n",
       "      <td>Crystallized Ginger Chunks</td>\n",
       "      <td>18</td>\n",
       "      <td>bulk dried fruits vegetables</td>\n",
       "      <td>10</td>\n",
       "      <td>bulk</td>\n",
       "    </tr>\n",
       "    <tr>\n",
       "      <th>49685</th>\n",
       "      <td>30365</td>\n",
       "      <td>Vegetable Chips</td>\n",
       "      <td>18</td>\n",
       "      <td>bulk dried fruits vegetables</td>\n",
       "      <td>10</td>\n",
       "      <td>bulk</td>\n",
       "    </tr>\n",
       "    <tr>\n",
       "      <th>49686</th>\n",
       "      <td>38007</td>\n",
       "      <td>Naturally Sweet Plantain Chips</td>\n",
       "      <td>18</td>\n",
       "      <td>bulk dried fruits vegetables</td>\n",
       "      <td>10</td>\n",
       "      <td>bulk</td>\n",
       "    </tr>\n",
       "    <tr>\n",
       "      <th>49687</th>\n",
       "      <td>48778</td>\n",
       "      <td>Fit Super A Juice, Cold Pressed, Carrot/Apple/...</td>\n",
       "      <td>18</td>\n",
       "      <td>bulk dried fruits vegetables</td>\n",
       "      <td>10</td>\n",
       "      <td>bulk</td>\n",
       "    </tr>\n",
       "  </tbody>\n",
       "</table>\n",
       "</div>"
      ],
      "text/plain": [
       "       product_id                                       product_name  \\\n",
       "49683       22827                         Organic Black Mission Figs   \n",
       "49684       28655                         Crystallized Ginger Chunks   \n",
       "49685       30365                                    Vegetable Chips   \n",
       "49686       38007                     Naturally Sweet Plantain Chips   \n",
       "49687       48778  Fit Super A Juice, Cold Pressed, Carrot/Apple/...   \n",
       "\n",
       "       aisle_id                         aisle  department_id department  \n",
       "49683        18  bulk dried fruits vegetables             10       bulk  \n",
       "49684        18  bulk dried fruits vegetables             10       bulk  \n",
       "49685        18  bulk dried fruits vegetables             10       bulk  \n",
       "49686        18  bulk dried fruits vegetables             10       bulk  \n",
       "49687        18  bulk dried fruits vegetables             10       bulk  "
      ]
     },
     "execution_count": 104,
     "metadata": {},
     "output_type": "execute_result"
    }
   ],
   "source": [
    "concat_aisle_rearr.tail()"
   ]
  },
  {
   "cell_type": "code",
   "execution_count": 106,
   "metadata": {
    "collapsed": false
   },
   "outputs": [],
   "source": [
    "order_products__prior = pd.read_csv('../dataset/order_products__prior.csv')"
   ]
  },
  {
   "cell_type": "code",
   "execution_count": 107,
   "metadata": {
    "collapsed": false
   },
   "outputs": [
    {
     "name": "stdout",
     "output_type": "stream",
     "text": [
      "order_products__prior:  (32434489, 4)\n",
      "====================\n"
     ]
    },
    {
     "data": {
      "text/html": [
       "<div>\n",
       "<table border=\"1\" class=\"dataframe\">\n",
       "  <thead>\n",
       "    <tr style=\"text-align: right;\">\n",
       "      <th></th>\n",
       "      <th>order_id</th>\n",
       "      <th>product_id</th>\n",
       "      <th>add_to_cart_order</th>\n",
       "      <th>reordered</th>\n",
       "    </tr>\n",
       "  </thead>\n",
       "  <tbody>\n",
       "    <tr>\n",
       "      <th>32434479</th>\n",
       "      <td>3421083</td>\n",
       "      <td>7854</td>\n",
       "      <td>1</td>\n",
       "      <td>0</td>\n",
       "    </tr>\n",
       "    <tr>\n",
       "      <th>32434480</th>\n",
       "      <td>3421083</td>\n",
       "      <td>45309</td>\n",
       "      <td>2</td>\n",
       "      <td>0</td>\n",
       "    </tr>\n",
       "    <tr>\n",
       "      <th>32434481</th>\n",
       "      <td>3421083</td>\n",
       "      <td>21162</td>\n",
       "      <td>3</td>\n",
       "      <td>0</td>\n",
       "    </tr>\n",
       "    <tr>\n",
       "      <th>32434482</th>\n",
       "      <td>3421083</td>\n",
       "      <td>18176</td>\n",
       "      <td>4</td>\n",
       "      <td>1</td>\n",
       "    </tr>\n",
       "    <tr>\n",
       "      <th>32434483</th>\n",
       "      <td>3421083</td>\n",
       "      <td>35211</td>\n",
       "      <td>5</td>\n",
       "      <td>0</td>\n",
       "    </tr>\n",
       "    <tr>\n",
       "      <th>32434484</th>\n",
       "      <td>3421083</td>\n",
       "      <td>39678</td>\n",
       "      <td>6</td>\n",
       "      <td>1</td>\n",
       "    </tr>\n",
       "    <tr>\n",
       "      <th>32434485</th>\n",
       "      <td>3421083</td>\n",
       "      <td>11352</td>\n",
       "      <td>7</td>\n",
       "      <td>0</td>\n",
       "    </tr>\n",
       "    <tr>\n",
       "      <th>32434486</th>\n",
       "      <td>3421083</td>\n",
       "      <td>4600</td>\n",
       "      <td>8</td>\n",
       "      <td>0</td>\n",
       "    </tr>\n",
       "    <tr>\n",
       "      <th>32434487</th>\n",
       "      <td>3421083</td>\n",
       "      <td>24852</td>\n",
       "      <td>9</td>\n",
       "      <td>1</td>\n",
       "    </tr>\n",
       "    <tr>\n",
       "      <th>32434488</th>\n",
       "      <td>3421083</td>\n",
       "      <td>5020</td>\n",
       "      <td>10</td>\n",
       "      <td>1</td>\n",
       "    </tr>\n",
       "  </tbody>\n",
       "</table>\n",
       "</div>"
      ],
      "text/plain": [
       "          order_id  product_id  add_to_cart_order  reordered\n",
       "32434479   3421083        7854                  1          0\n",
       "32434480   3421083       45309                  2          0\n",
       "32434481   3421083       21162                  3          0\n",
       "32434482   3421083       18176                  4          1\n",
       "32434483   3421083       35211                  5          0\n",
       "32434484   3421083       39678                  6          1\n",
       "32434485   3421083       11352                  7          0\n",
       "32434486   3421083        4600                  8          0\n",
       "32434487   3421083       24852                  9          1\n",
       "32434488   3421083        5020                 10          1"
      ]
     },
     "execution_count": 107,
     "metadata": {},
     "output_type": "execute_result"
    }
   ],
   "source": [
    "print 'order_products__prior: ', order_products__prior.shape\n",
    "print '='*20\n",
    "order_products__prior[order_products__prior.order_id == 3421083]"
   ]
  },
  {
   "cell_type": "code",
   "execution_count": 108,
   "metadata": {
    "collapsed": false
   },
   "outputs": [
    {
     "data": {
      "text/html": [
       "<div>\n",
       "<table border=\"1\" class=\"dataframe\">\n",
       "  <thead>\n",
       "    <tr style=\"text-align: right;\">\n",
       "      <th></th>\n",
       "      <th>order_id</th>\n",
       "      <th>user_id</th>\n",
       "      <th>eval_set</th>\n",
       "      <th>order_number</th>\n",
       "      <th>order_dow</th>\n",
       "      <th>order_hour_of_day</th>\n",
       "      <th>days_since_prior_order</th>\n",
       "    </tr>\n",
       "  </thead>\n",
       "  <tbody>\n",
       "    <tr>\n",
       "      <th>0</th>\n",
       "      <td>2539329</td>\n",
       "      <td>1</td>\n",
       "      <td>prior</td>\n",
       "      <td>1</td>\n",
       "      <td>2</td>\n",
       "      <td>8</td>\n",
       "      <td>NaN</td>\n",
       "    </tr>\n",
       "    <tr>\n",
       "      <th>1</th>\n",
       "      <td>2398795</td>\n",
       "      <td>1</td>\n",
       "      <td>prior</td>\n",
       "      <td>2</td>\n",
       "      <td>3</td>\n",
       "      <td>7</td>\n",
       "      <td>15.0</td>\n",
       "    </tr>\n",
       "    <tr>\n",
       "      <th>2</th>\n",
       "      <td>473747</td>\n",
       "      <td>1</td>\n",
       "      <td>prior</td>\n",
       "      <td>3</td>\n",
       "      <td>3</td>\n",
       "      <td>12</td>\n",
       "      <td>21.0</td>\n",
       "    </tr>\n",
       "    <tr>\n",
       "      <th>3</th>\n",
       "      <td>2254736</td>\n",
       "      <td>1</td>\n",
       "      <td>prior</td>\n",
       "      <td>4</td>\n",
       "      <td>4</td>\n",
       "      <td>7</td>\n",
       "      <td>29.0</td>\n",
       "    </tr>\n",
       "    <tr>\n",
       "      <th>4</th>\n",
       "      <td>431534</td>\n",
       "      <td>1</td>\n",
       "      <td>prior</td>\n",
       "      <td>5</td>\n",
       "      <td>4</td>\n",
       "      <td>15</td>\n",
       "      <td>28.0</td>\n",
       "    </tr>\n",
       "  </tbody>\n",
       "</table>\n",
       "</div>"
      ],
      "text/plain": [
       "   order_id  user_id eval_set  order_number  order_dow  order_hour_of_day  \\\n",
       "0   2539329        1    prior             1          2                  8   \n",
       "1   2398795        1    prior             2          3                  7   \n",
       "2    473747        1    prior             3          3                 12   \n",
       "3   2254736        1    prior             4          4                  7   \n",
       "4    431534        1    prior             5          4                 15   \n",
       "\n",
       "   days_since_prior_order  \n",
       "0                     NaN  \n",
       "1                    15.0  \n",
       "2                    21.0  \n",
       "3                    29.0  \n",
       "4                    28.0  "
      ]
     },
     "execution_count": 108,
     "metadata": {},
     "output_type": "execute_result"
    }
   ],
   "source": [
    "orders.head()"
   ]
  },
  {
   "cell_type": "code",
   "execution_count": 109,
   "metadata": {
    "collapsed": true
   },
   "outputs": [],
   "source": [
    "concat_all_prior = pd.merge(order_products__prior, concat_aisle_rearr, on='product_id')"
   ]
  },
  {
   "cell_type": "code",
   "execution_count": 110,
   "metadata": {
    "collapsed": false
   },
   "outputs": [
    {
     "name": "stdout",
     "output_type": "stream",
     "text": [
      "after concat (32434489, 9)\n",
      "====================\n"
     ]
    },
    {
     "data": {
      "text/html": [
       "<div>\n",
       "<table border=\"1\" class=\"dataframe\">\n",
       "  <thead>\n",
       "    <tr style=\"text-align: right;\">\n",
       "      <th></th>\n",
       "      <th>order_id</th>\n",
       "      <th>product_id</th>\n",
       "      <th>add_to_cart_order</th>\n",
       "      <th>reordered</th>\n",
       "      <th>product_name</th>\n",
       "      <th>aisle_id</th>\n",
       "      <th>aisle</th>\n",
       "      <th>department_id</th>\n",
       "      <th>department</th>\n",
       "    </tr>\n",
       "  </thead>\n",
       "  <tbody>\n",
       "    <tr>\n",
       "      <th>32434484</th>\n",
       "      <td>3265099</td>\n",
       "      <td>43492</td>\n",
       "      <td>3</td>\n",
       "      <td>0</td>\n",
       "      <td>Gourmet Burger Seasoning</td>\n",
       "      <td>104</td>\n",
       "      <td>spices seasonings</td>\n",
       "      <td>13</td>\n",
       "      <td>pantry</td>\n",
       "    </tr>\n",
       "    <tr>\n",
       "      <th>32434485</th>\n",
       "      <td>3361945</td>\n",
       "      <td>43492</td>\n",
       "      <td>19</td>\n",
       "      <td>0</td>\n",
       "      <td>Gourmet Burger Seasoning</td>\n",
       "      <td>104</td>\n",
       "      <td>spices seasonings</td>\n",
       "      <td>13</td>\n",
       "      <td>pantry</td>\n",
       "    </tr>\n",
       "    <tr>\n",
       "      <th>32434486</th>\n",
       "      <td>3267201</td>\n",
       "      <td>33097</td>\n",
       "      <td>2</td>\n",
       "      <td>0</td>\n",
       "      <td>Piquillo &amp; Jalapeno Bruschetta</td>\n",
       "      <td>81</td>\n",
       "      <td>canned jarred vegetables</td>\n",
       "      <td>15</td>\n",
       "      <td>canned goods</td>\n",
       "    </tr>\n",
       "    <tr>\n",
       "      <th>32434487</th>\n",
       "      <td>3393151</td>\n",
       "      <td>38977</td>\n",
       "      <td>32</td>\n",
       "      <td>0</td>\n",
       "      <td>Original Jerky</td>\n",
       "      <td>100</td>\n",
       "      <td>missing</td>\n",
       "      <td>21</td>\n",
       "      <td>missing</td>\n",
       "    </tr>\n",
       "    <tr>\n",
       "      <th>32434488</th>\n",
       "      <td>3400803</td>\n",
       "      <td>23624</td>\n",
       "      <td>7</td>\n",
       "      <td>0</td>\n",
       "      <td>Flatbread Pizza All Natural</td>\n",
       "      <td>79</td>\n",
       "      <td>frozen pizza</td>\n",
       "      <td>1</td>\n",
       "      <td>frozen</td>\n",
       "    </tr>\n",
       "  </tbody>\n",
       "</table>\n",
       "</div>"
      ],
      "text/plain": [
       "          order_id  product_id  add_to_cart_order  reordered  \\\n",
       "32434484   3265099       43492                  3          0   \n",
       "32434485   3361945       43492                 19          0   \n",
       "32434486   3267201       33097                  2          0   \n",
       "32434487   3393151       38977                 32          0   \n",
       "32434488   3400803       23624                  7          0   \n",
       "\n",
       "                            product_name  aisle_id                     aisle  \\\n",
       "32434484        Gourmet Burger Seasoning       104         spices seasonings   \n",
       "32434485        Gourmet Burger Seasoning       104         spices seasonings   \n",
       "32434486  Piquillo & Jalapeno Bruschetta        81  canned jarred vegetables   \n",
       "32434487                  Original Jerky       100                   missing   \n",
       "32434488     Flatbread Pizza All Natural        79              frozen pizza   \n",
       "\n",
       "          department_id    department  \n",
       "32434484             13        pantry  \n",
       "32434485             13        pantry  \n",
       "32434486             15  canned goods  \n",
       "32434487             21       missing  \n",
       "32434488              1        frozen  "
      ]
     },
     "execution_count": 110,
     "metadata": {},
     "output_type": "execute_result"
    }
   ],
   "source": [
    "print 'after concat', concat_all_prior.shape\n",
    "print '='*20\n",
    "concat_all_prior.tail()"
   ]
  },
  {
   "cell_type": "code",
   "execution_count": 112,
   "metadata": {
    "collapsed": true
   },
   "outputs": [],
   "source": [
    "concat_final_prior = pd.merge(concat_all_prior, orders_most, on='order_id')"
   ]
  },
  {
   "cell_type": "code",
   "execution_count": 154,
   "metadata": {
    "collapsed": true
   },
   "outputs": [],
   "source": [
    "temp_user_id3 = concat_final_prior[concat_final_prior.user_id == 3]"
   ]
  },
  {
   "cell_type": "code",
   "execution_count": 156,
   "metadata": {
    "collapsed": false
   },
   "outputs": [
    {
     "data": {
      "text/html": [
       "<div>\n",
       "<table border=\"1\" class=\"dataframe\">\n",
       "  <thead>\n",
       "    <tr style=\"text-align: right;\">\n",
       "      <th></th>\n",
       "      <th></th>\n",
       "      <th></th>\n",
       "      <th></th>\n",
       "      <th>count</th>\n",
       "      <th>sum</th>\n",
       "    </tr>\n",
       "    <tr>\n",
       "      <th>order_id</th>\n",
       "      <th>order_dow</th>\n",
       "      <th>department</th>\n",
       "      <th>aisle</th>\n",
       "      <th></th>\n",
       "      <th></th>\n",
       "    </tr>\n",
       "  </thead>\n",
       "  <tbody>\n",
       "    <tr>\n",
       "      <th rowspan=\"9\" valign=\"top\">444309</th>\n",
       "      <th rowspan=\"9\" valign=\"top\">3</th>\n",
       "      <th>beverages</th>\n",
       "      <th>water seltzer sparkling water</th>\n",
       "      <td>1</td>\n",
       "      <td>0</td>\n",
       "    </tr>\n",
       "    <tr>\n",
       "      <th rowspan=\"3\" valign=\"top\">dairy eggs</th>\n",
       "      <th>other creams cheeses</th>\n",
       "      <td>1</td>\n",
       "      <td>0</td>\n",
       "    </tr>\n",
       "    <tr>\n",
       "      <th>packaged cheese</th>\n",
       "      <td>1</td>\n",
       "      <td>0</td>\n",
       "    </tr>\n",
       "    <tr>\n",
       "      <th>soy lactosefree</th>\n",
       "      <td>1</td>\n",
       "      <td>1</td>\n",
       "    </tr>\n",
       "    <tr>\n",
       "      <th>household</th>\n",
       "      <th>paper goods</th>\n",
       "      <td>1</td>\n",
       "      <td>0</td>\n",
       "    </tr>\n",
       "    <tr>\n",
       "      <th rowspan=\"2\" valign=\"top\">produce</th>\n",
       "      <th>fresh fruits</th>\n",
       "      <td>1</td>\n",
       "      <td>0</td>\n",
       "    </tr>\n",
       "    <tr>\n",
       "      <th>packaged vegetables fruits</th>\n",
       "      <td>1</td>\n",
       "      <td>1</td>\n",
       "    </tr>\n",
       "    <tr>\n",
       "      <th rowspan=\"2\" valign=\"top\">snacks</th>\n",
       "      <th>crackers</th>\n",
       "      <td>1</td>\n",
       "      <td>1</td>\n",
       "    </tr>\n",
       "    <tr>\n",
       "      <th>nuts seeds dried fruit</th>\n",
       "      <td>1</td>\n",
       "      <td>0</td>\n",
       "    </tr>\n",
       "    <tr>\n",
       "      <th rowspan=\"3\" valign=\"top\">521107</th>\n",
       "      <th rowspan=\"3\" valign=\"top\">0</th>\n",
       "      <th>dairy eggs</th>\n",
       "      <th>soy lactosefree</th>\n",
       "      <td>2</td>\n",
       "      <td>2</td>\n",
       "    </tr>\n",
       "    <tr>\n",
       "      <th rowspan=\"2\" valign=\"top\">produce</th>\n",
       "      <th>fresh fruits</th>\n",
       "      <td>1</td>\n",
       "      <td>1</td>\n",
       "    </tr>\n",
       "    <tr>\n",
       "      <th>packaged vegetables fruits</th>\n",
       "      <td>2</td>\n",
       "      <td>2</td>\n",
       "    </tr>\n",
       "    <tr>\n",
       "      <th rowspan=\"5\" valign=\"top\">676467</th>\n",
       "      <th rowspan=\"5\" valign=\"top\">3</th>\n",
       "      <th>beverages</th>\n",
       "      <th>tea</th>\n",
       "      <td>1</td>\n",
       "      <td>0</td>\n",
       "    </tr>\n",
       "    <tr>\n",
       "      <th>dairy eggs</th>\n",
       "      <th>soy lactosefree</th>\n",
       "      <td>2</td>\n",
       "      <td>2</td>\n",
       "    </tr>\n",
       "    <tr>\n",
       "      <th>dry goods pasta</th>\n",
       "      <th>instant foods</th>\n",
       "      <td>1</td>\n",
       "      <td>1</td>\n",
       "    </tr>\n",
       "    <tr>\n",
       "      <th>produce</th>\n",
       "      <th>fresh fruits</th>\n",
       "      <td>1</td>\n",
       "      <td>1</td>\n",
       "    </tr>\n",
       "    <tr>\n",
       "      <th>snacks</th>\n",
       "      <th>crackers</th>\n",
       "      <td>1</td>\n",
       "      <td>1</td>\n",
       "    </tr>\n",
       "    <tr>\n",
       "      <th rowspan=\"4\" valign=\"top\">1374495</th>\n",
       "      <th rowspan=\"4\" valign=\"top\">1</th>\n",
       "      <th>dairy eggs</th>\n",
       "      <th>soy lactosefree</th>\n",
       "      <td>2</td>\n",
       "      <td>0</td>\n",
       "    </tr>\n",
       "    <tr>\n",
       "      <th rowspan=\"2\" valign=\"top\">produce</th>\n",
       "      <th>fresh fruits</th>\n",
       "      <td>4</td>\n",
       "      <td>0</td>\n",
       "    </tr>\n",
       "    <tr>\n",
       "      <th>packaged vegetables fruits</th>\n",
       "      <td>2</td>\n",
       "      <td>0</td>\n",
       "    </tr>\n",
       "    <tr>\n",
       "      <th>snacks</th>\n",
       "      <th>crackers</th>\n",
       "      <td>2</td>\n",
       "      <td>0</td>\n",
       "    </tr>\n",
       "    <tr>\n",
       "      <th rowspan=\"6\" valign=\"top\">1402502</th>\n",
       "      <th rowspan=\"6\" valign=\"top\">1</th>\n",
       "      <th>beverages</th>\n",
       "      <th>water seltzer sparkling water</th>\n",
       "      <td>1</td>\n",
       "      <td>1</td>\n",
       "    </tr>\n",
       "    <tr>\n",
       "      <th>dairy eggs</th>\n",
       "      <th>soy lactosefree</th>\n",
       "      <td>1</td>\n",
       "      <td>1</td>\n",
       "    </tr>\n",
       "    <tr>\n",
       "      <th>dry goods pasta</th>\n",
       "      <th>instant foods</th>\n",
       "      <td>1</td>\n",
       "      <td>1</td>\n",
       "    </tr>\n",
       "    <tr>\n",
       "      <th rowspan=\"2\" valign=\"top\">produce</th>\n",
       "      <th>fresh fruits</th>\n",
       "      <td>1</td>\n",
       "      <td>1</td>\n",
       "    </tr>\n",
       "    <tr>\n",
       "      <th>packaged vegetables fruits</th>\n",
       "      <td>1</td>\n",
       "      <td>1</td>\n",
       "    </tr>\n",
       "    <tr>\n",
       "      <th>snacks</th>\n",
       "      <th>crackers</th>\n",
       "      <td>1</td>\n",
       "      <td>1</td>\n",
       "    </tr>\n",
       "    <tr>\n",
       "      <th rowspan=\"3\" valign=\"top\">1839752</th>\n",
       "      <th rowspan=\"3\" valign=\"top\">0</th>\n",
       "      <th>dairy eggs</th>\n",
       "      <th>soy lactosefree</th>\n",
       "      <td>1</td>\n",
       "      <td>1</td>\n",
       "    </tr>\n",
       "    <tr>\n",
       "      <th>dry goods pasta</th>\n",
       "      <th>instant foods</th>\n",
       "      <td>1</td>\n",
       "      <td>0</td>\n",
       "    </tr>\n",
       "    <tr>\n",
       "      <th>frozen</th>\n",
       "      <th>frozen breakfast</th>\n",
       "      <td>1</td>\n",
       "      <td>1</td>\n",
       "    </tr>\n",
       "    <tr>\n",
       "      <th>...</th>\n",
       "      <th>...</th>\n",
       "      <th>...</th>\n",
       "      <th>...</th>\n",
       "      <td>...</td>\n",
       "      <td>...</td>\n",
       "    </tr>\n",
       "    <tr>\n",
       "      <th>1972919</th>\n",
       "      <th>0</th>\n",
       "      <th>snacks</th>\n",
       "      <th>crackers</th>\n",
       "      <td>1</td>\n",
       "      <td>1</td>\n",
       "    </tr>\n",
       "    <tr>\n",
       "      <th rowspan=\"5\" valign=\"top\">2037211</th>\n",
       "      <th rowspan=\"5\" valign=\"top\">2</th>\n",
       "      <th rowspan=\"2\" valign=\"top\">frozen</th>\n",
       "      <th>frozen breakfast</th>\n",
       "      <td>1</td>\n",
       "      <td>0</td>\n",
       "    </tr>\n",
       "    <tr>\n",
       "      <th>ice cream ice</th>\n",
       "      <td>1</td>\n",
       "      <td>0</td>\n",
       "    </tr>\n",
       "    <tr>\n",
       "      <th>pantry</th>\n",
       "      <th>spreads</th>\n",
       "      <td>1</td>\n",
       "      <td>0</td>\n",
       "    </tr>\n",
       "    <tr>\n",
       "      <th>produce</th>\n",
       "      <th>fresh fruits</th>\n",
       "      <td>1</td>\n",
       "      <td>1</td>\n",
       "    </tr>\n",
       "    <tr>\n",
       "      <th>snacks</th>\n",
       "      <th>nuts seeds dried fruit</th>\n",
       "      <td>1</td>\n",
       "      <td>0</td>\n",
       "    </tr>\n",
       "    <tr>\n",
       "      <th rowspan=\"7\" valign=\"top\">2710558</th>\n",
       "      <th rowspan=\"7\" valign=\"top\">0</th>\n",
       "      <th rowspan=\"2\" valign=\"top\">dairy eggs</th>\n",
       "      <th>packaged cheese</th>\n",
       "      <td>2</td>\n",
       "      <td>0</td>\n",
       "    </tr>\n",
       "    <tr>\n",
       "      <th>soy lactosefree</th>\n",
       "      <td>2</td>\n",
       "      <td>2</td>\n",
       "    </tr>\n",
       "    <tr>\n",
       "      <th>deli</th>\n",
       "      <th>prepared meals</th>\n",
       "      <td>1</td>\n",
       "      <td>1</td>\n",
       "    </tr>\n",
       "    <tr>\n",
       "      <th>frozen</th>\n",
       "      <th>ice cream ice</th>\n",
       "      <td>1</td>\n",
       "      <td>1</td>\n",
       "    </tr>\n",
       "    <tr>\n",
       "      <th rowspan=\"3\" valign=\"top\">produce</th>\n",
       "      <th>fresh fruits</th>\n",
       "      <td>2</td>\n",
       "      <td>2</td>\n",
       "    </tr>\n",
       "    <tr>\n",
       "      <th>fresh vegetables</th>\n",
       "      <td>1</td>\n",
       "      <td>0</td>\n",
       "    </tr>\n",
       "    <tr>\n",
       "      <th>packaged vegetables fruits</th>\n",
       "      <td>2</td>\n",
       "      <td>1</td>\n",
       "    </tr>\n",
       "    <tr>\n",
       "      <th rowspan=\"6\" valign=\"top\">3002854</th>\n",
       "      <th rowspan=\"6\" valign=\"top\">3</th>\n",
       "      <th>dairy eggs</th>\n",
       "      <th>soy lactosefree</th>\n",
       "      <td>1</td>\n",
       "      <td>1</td>\n",
       "    </tr>\n",
       "    <tr>\n",
       "      <th>deli</th>\n",
       "      <th>prepared meals</th>\n",
       "      <td>1</td>\n",
       "      <td>0</td>\n",
       "    </tr>\n",
       "    <tr>\n",
       "      <th rowspan=\"3\" valign=\"top\">produce</th>\n",
       "      <th>fresh fruits</th>\n",
       "      <td>1</td>\n",
       "      <td>1</td>\n",
       "    </tr>\n",
       "    <tr>\n",
       "      <th>fresh vegetables</th>\n",
       "      <td>1</td>\n",
       "      <td>0</td>\n",
       "    </tr>\n",
       "    <tr>\n",
       "      <th>packaged vegetables fruits</th>\n",
       "      <td>1</td>\n",
       "      <td>1</td>\n",
       "    </tr>\n",
       "    <tr>\n",
       "      <th>snacks</th>\n",
       "      <th>nuts seeds dried fruit</th>\n",
       "      <td>1</td>\n",
       "      <td>0</td>\n",
       "    </tr>\n",
       "    <tr>\n",
       "      <th rowspan=\"4\" valign=\"top\">3160850</th>\n",
       "      <th rowspan=\"4\" valign=\"top\">0</th>\n",
       "      <th>dairy eggs</th>\n",
       "      <th>soy lactosefree</th>\n",
       "      <td>1</td>\n",
       "      <td>1</td>\n",
       "    </tr>\n",
       "    <tr>\n",
       "      <th>frozen</th>\n",
       "      <th>ice cream ice</th>\n",
       "      <td>1</td>\n",
       "      <td>1</td>\n",
       "    </tr>\n",
       "    <tr>\n",
       "      <th rowspan=\"2\" valign=\"top\">produce</th>\n",
       "      <th>fresh fruits</th>\n",
       "      <td>2</td>\n",
       "      <td>2</td>\n",
       "    </tr>\n",
       "    <tr>\n",
       "      <th>packaged vegetables fruits</th>\n",
       "      <td>1</td>\n",
       "      <td>1</td>\n",
       "    </tr>\n",
       "    <tr>\n",
       "      <th rowspan=\"7\" valign=\"top\">3225766</th>\n",
       "      <th rowspan=\"7\" valign=\"top\">0</th>\n",
       "      <th rowspan=\"2\" valign=\"top\">dairy eggs</th>\n",
       "      <th>packaged cheese</th>\n",
       "      <td>1</td>\n",
       "      <td>1</td>\n",
       "    </tr>\n",
       "    <tr>\n",
       "      <th>soy lactosefree</th>\n",
       "      <td>1</td>\n",
       "      <td>1</td>\n",
       "    </tr>\n",
       "    <tr>\n",
       "      <th>dry goods pasta</th>\n",
       "      <th>instant foods</th>\n",
       "      <td>1</td>\n",
       "      <td>1</td>\n",
       "    </tr>\n",
       "    <tr>\n",
       "      <th>frozen</th>\n",
       "      <th>ice cream ice</th>\n",
       "      <td>1</td>\n",
       "      <td>0</td>\n",
       "    </tr>\n",
       "    <tr>\n",
       "      <th>pantry</th>\n",
       "      <th>spreads</th>\n",
       "      <td>1</td>\n",
       "      <td>0</td>\n",
       "    </tr>\n",
       "    <tr>\n",
       "      <th rowspan=\"2\" valign=\"top\">produce</th>\n",
       "      <th>fresh fruits</th>\n",
       "      <td>1</td>\n",
       "      <td>1</td>\n",
       "    </tr>\n",
       "    <tr>\n",
       "      <th>packaged vegetables fruits</th>\n",
       "      <td>2</td>\n",
       "      <td>2</td>\n",
       "    </tr>\n",
       "  </tbody>\n",
       "</table>\n",
       "<p>69 rows × 2 columns</p>\n",
       "</div>"
      ],
      "text/plain": [
       "                                                                  count  sum\n",
       "order_id order_dow department      aisle                                    \n",
       "444309   3         beverages       water seltzer sparkling water      1    0\n",
       "                   dairy eggs      other creams cheeses               1    0\n",
       "                                   packaged cheese                    1    0\n",
       "                                   soy lactosefree                    1    1\n",
       "                   household       paper goods                        1    0\n",
       "                   produce         fresh fruits                       1    0\n",
       "                                   packaged vegetables fruits         1    1\n",
       "                   snacks          crackers                           1    1\n",
       "                                   nuts seeds dried fruit             1    0\n",
       "521107   0         dairy eggs      soy lactosefree                    2    2\n",
       "                   produce         fresh fruits                       1    1\n",
       "                                   packaged vegetables fruits         2    2\n",
       "676467   3         beverages       tea                                1    0\n",
       "                   dairy eggs      soy lactosefree                    2    2\n",
       "                   dry goods pasta instant foods                      1    1\n",
       "                   produce         fresh fruits                       1    1\n",
       "                   snacks          crackers                           1    1\n",
       "1374495  1         dairy eggs      soy lactosefree                    2    0\n",
       "                   produce         fresh fruits                       4    0\n",
       "                                   packaged vegetables fruits         2    0\n",
       "                   snacks          crackers                           2    0\n",
       "1402502  1         beverages       water seltzer sparkling water      1    1\n",
       "                   dairy eggs      soy lactosefree                    1    1\n",
       "                   dry goods pasta instant foods                      1    1\n",
       "                   produce         fresh fruits                       1    1\n",
       "                                   packaged vegetables fruits         1    1\n",
       "                   snacks          crackers                           1    1\n",
       "1839752  0         dairy eggs      soy lactosefree                    1    1\n",
       "                   dry goods pasta instant foods                      1    0\n",
       "                   frozen          frozen breakfast                   1    1\n",
       "...                                                                 ...  ...\n",
       "1972919  0         snacks          crackers                           1    1\n",
       "2037211  2         frozen          frozen breakfast                   1    0\n",
       "                                   ice cream ice                      1    0\n",
       "                   pantry          spreads                            1    0\n",
       "                   produce         fresh fruits                       1    1\n",
       "                   snacks          nuts seeds dried fruit             1    0\n",
       "2710558  0         dairy eggs      packaged cheese                    2    0\n",
       "                                   soy lactosefree                    2    2\n",
       "                   deli            prepared meals                     1    1\n",
       "                   frozen          ice cream ice                      1    1\n",
       "                   produce         fresh fruits                       2    2\n",
       "                                   fresh vegetables                   1    0\n",
       "                                   packaged vegetables fruits         2    1\n",
       "3002854  3         dairy eggs      soy lactosefree                    1    1\n",
       "                   deli            prepared meals                     1    0\n",
       "                   produce         fresh fruits                       1    1\n",
       "                                   fresh vegetables                   1    0\n",
       "                                   packaged vegetables fruits         1    1\n",
       "                   snacks          nuts seeds dried fruit             1    0\n",
       "3160850  0         dairy eggs      soy lactosefree                    1    1\n",
       "                   frozen          ice cream ice                      1    1\n",
       "                   produce         fresh fruits                       2    2\n",
       "                                   packaged vegetables fruits         1    1\n",
       "3225766  0         dairy eggs      packaged cheese                    1    1\n",
       "                                   soy lactosefree                    1    1\n",
       "                   dry goods pasta instant foods                      1    1\n",
       "                   frozen          ice cream ice                      1    0\n",
       "                   pantry          spreads                            1    0\n",
       "                   produce         fresh fruits                       1    1\n",
       "                                   packaged vegetables fruits         2    2\n",
       "\n",
       "[69 rows x 2 columns]"
      ]
     },
     "execution_count": 156,
     "metadata": {},
     "output_type": "execute_result"
    }
   ],
   "source": [
    "temp_user_id3.groupby(['order_id','order_dow','department','aisle'])['reordered'].agg({'sum':'sum', 'count':'count'})"
   ]
  },
  {
   "cell_type": "code",
   "execution_count": 117,
   "metadata": {
    "collapsed": false
   },
   "outputs": [],
   "source": [
    "order_7 = concat_final_prior[concat_final_prior.days_since_prior_order == 7.0]"
   ]
  },
  {
   "cell_type": "code",
   "execution_count": 118,
   "metadata": {
    "collapsed": false
   },
   "outputs": [
    {
     "data": {
      "text/html": [
       "<div>\n",
       "<table border=\"1\" class=\"dataframe\">\n",
       "  <thead>\n",
       "    <tr style=\"text-align: right;\">\n",
       "      <th></th>\n",
       "      <th>order_id</th>\n",
       "      <th>product_id</th>\n",
       "      <th>add_to_cart_order</th>\n",
       "      <th>reordered</th>\n",
       "      <th>product_name</th>\n",
       "      <th>aisle_id</th>\n",
       "      <th>aisle</th>\n",
       "      <th>department_id</th>\n",
       "      <th>department</th>\n",
       "      <th>user_id</th>\n",
       "      <th>eval_set</th>\n",
       "      <th>order_number</th>\n",
       "      <th>order_dow</th>\n",
       "      <th>order_hour_of_day</th>\n",
       "      <th>days_since_prior_order</th>\n",
       "      <th>most_freq_days</th>\n",
       "    </tr>\n",
       "  </thead>\n",
       "  <tbody>\n",
       "    <tr>\n",
       "      <th>32434212</th>\n",
       "      <td>1076519</td>\n",
       "      <td>29286</td>\n",
       "      <td>1</td>\n",
       "      <td>0</td>\n",
       "      <td>Vegetarian DHA Softgels</td>\n",
       "      <td>47</td>\n",
       "      <td>vitamins supplements</td>\n",
       "      <td>11</td>\n",
       "      <td>personal care</td>\n",
       "      <td>189937</td>\n",
       "      <td>prior</td>\n",
       "      <td>23</td>\n",
       "      <td>6</td>\n",
       "      <td>7</td>\n",
       "      <td>7.0</td>\n",
       "      <td>7.0</td>\n",
       "    </tr>\n",
       "    <tr>\n",
       "      <th>32434345</th>\n",
       "      <td>1875279</td>\n",
       "      <td>30793</td>\n",
       "      <td>1</td>\n",
       "      <td>0</td>\n",
       "      <td>Platinum Fresh Scent ActionPacs Dishwasher Det...</td>\n",
       "      <td>100</td>\n",
       "      <td>missing</td>\n",
       "      <td>21</td>\n",
       "      <td>missing</td>\n",
       "      <td>189409</td>\n",
       "      <td>prior</td>\n",
       "      <td>29</td>\n",
       "      <td>2</td>\n",
       "      <td>20</td>\n",
       "      <td>7.0</td>\n",
       "      <td>4.0</td>\n",
       "    </tr>\n",
       "    <tr>\n",
       "      <th>32434409</th>\n",
       "      <td>823347</td>\n",
       "      <td>47523</td>\n",
       "      <td>1</td>\n",
       "      <td>0</td>\n",
       "      <td>Raspberry Cheesecake</td>\n",
       "      <td>8</td>\n",
       "      <td>bakery desserts</td>\n",
       "      <td>3</td>\n",
       "      <td>bakery</td>\n",
       "      <td>15297</td>\n",
       "      <td>prior</td>\n",
       "      <td>32</td>\n",
       "      <td>5</td>\n",
       "      <td>10</td>\n",
       "      <td>7.0</td>\n",
       "      <td>1.0</td>\n",
       "    </tr>\n",
       "    <tr>\n",
       "      <th>32434462</th>\n",
       "      <td>2138601</td>\n",
       "      <td>9918</td>\n",
       "      <td>1</td>\n",
       "      <td>0</td>\n",
       "      <td>Apple Gripe Water</td>\n",
       "      <td>92</td>\n",
       "      <td>baby food formula</td>\n",
       "      <td>18</td>\n",
       "      <td>babies</td>\n",
       "      <td>183623</td>\n",
       "      <td>prior</td>\n",
       "      <td>11</td>\n",
       "      <td>2</td>\n",
       "      <td>13</td>\n",
       "      <td>7.0</td>\n",
       "      <td>7.0</td>\n",
       "    </tr>\n",
       "    <tr>\n",
       "      <th>32434476</th>\n",
       "      <td>2570526</td>\n",
       "      <td>43134</td>\n",
       "      <td>1</td>\n",
       "      <td>0</td>\n",
       "      <td>Holy Basil Leaf Vegetarian Liquid Phyto-Caps</td>\n",
       "      <td>47</td>\n",
       "      <td>vitamins supplements</td>\n",
       "      <td>11</td>\n",
       "      <td>personal care</td>\n",
       "      <td>9798</td>\n",
       "      <td>prior</td>\n",
       "      <td>30</td>\n",
       "      <td>0</td>\n",
       "      <td>9</td>\n",
       "      <td>7.0</td>\n",
       "      <td>5.0</td>\n",
       "    </tr>\n",
       "  </tbody>\n",
       "</table>\n",
       "</div>"
      ],
      "text/plain": [
       "          order_id  product_id  add_to_cart_order  reordered  \\\n",
       "32434212   1076519       29286                  1          0   \n",
       "32434345   1875279       30793                  1          0   \n",
       "32434409    823347       47523                  1          0   \n",
       "32434462   2138601        9918                  1          0   \n",
       "32434476   2570526       43134                  1          0   \n",
       "\n",
       "                                               product_name  aisle_id  \\\n",
       "32434212                            Vegetarian DHA Softgels        47   \n",
       "32434345  Platinum Fresh Scent ActionPacs Dishwasher Det...       100   \n",
       "32434409                               Raspberry Cheesecake         8   \n",
       "32434462                                  Apple Gripe Water        92   \n",
       "32434476       Holy Basil Leaf Vegetarian Liquid Phyto-Caps        47   \n",
       "\n",
       "                         aisle  department_id     department  user_id  \\\n",
       "32434212  vitamins supplements             11  personal care   189937   \n",
       "32434345               missing             21        missing   189409   \n",
       "32434409       bakery desserts              3         bakery    15297   \n",
       "32434462     baby food formula             18         babies   183623   \n",
       "32434476  vitamins supplements             11  personal care     9798   \n",
       "\n",
       "         eval_set  order_number  order_dow  order_hour_of_day  \\\n",
       "32434212    prior            23          6                  7   \n",
       "32434345    prior            29          2                 20   \n",
       "32434409    prior            32          5                 10   \n",
       "32434462    prior            11          2                 13   \n",
       "32434476    prior            30          0                  9   \n",
       "\n",
       "          days_since_prior_order  most_freq_days  \n",
       "32434212                     7.0             7.0  \n",
       "32434345                     7.0             4.0  \n",
       "32434409                     7.0             1.0  \n",
       "32434462                     7.0             7.0  \n",
       "32434476                     7.0             5.0  "
      ]
     },
     "execution_count": 118,
     "metadata": {},
     "output_type": "execute_result"
    }
   ],
   "source": [
    "order_7.tail()"
   ]
  },
  {
   "cell_type": "code",
   "execution_count": 138,
   "metadata": {
    "collapsed": false
   },
   "outputs": [
    {
     "data": {
      "text/plain": [
       "array([153404,  57362,  73968, ...,  46335, 189409,  15297])"
      ]
     },
     "execution_count": 138,
     "metadata": {},
     "output_type": "execute_result"
    }
   ],
   "source": [
    "order_7.user_id.unique()"
   ]
  },
  {
   "cell_type": "code",
   "execution_count": 146,
   "metadata": {
    "collapsed": false,
    "scrolled": false
   },
   "outputs": [],
   "source": [
    "temp=order_7.groupby(['user_id','order_dow','order_id', 'aisle'])['reordered'].agg({'sum':'sum', 'count':'count'}).reset_index()"
   ]
  },
  {
   "cell_type": "code",
   "execution_count": 147,
   "metadata": {
    "collapsed": false
   },
   "outputs": [
    {
     "data": {
      "text/html": [
       "<div>\n",
       "<table border=\"1\" class=\"dataframe\">\n",
       "  <thead>\n",
       "    <tr style=\"text-align: right;\">\n",
       "      <th></th>\n",
       "      <th>user_id</th>\n",
       "      <th>order_dow</th>\n",
       "      <th>order_id</th>\n",
       "      <th>aisle</th>\n",
       "      <th>count</th>\n",
       "      <th>sum</th>\n",
       "    </tr>\n",
       "  </thead>\n",
       "  <tbody>\n",
       "    <tr>\n",
       "      <th>0</th>\n",
       "      <td>3</td>\n",
       "      <td>0</td>\n",
       "      <td>1839752</td>\n",
       "      <td>fresh fruits</td>\n",
       "      <td>2</td>\n",
       "      <td>2</td>\n",
       "    </tr>\n",
       "    <tr>\n",
       "      <th>1</th>\n",
       "      <td>3</td>\n",
       "      <td>0</td>\n",
       "      <td>1839752</td>\n",
       "      <td>fresh vegetables</td>\n",
       "      <td>1</td>\n",
       "      <td>1</td>\n",
       "    </tr>\n",
       "    <tr>\n",
       "      <th>2</th>\n",
       "      <td>3</td>\n",
       "      <td>0</td>\n",
       "      <td>1839752</td>\n",
       "      <td>frozen breakfast</td>\n",
       "      <td>1</td>\n",
       "      <td>1</td>\n",
       "    </tr>\n",
       "    <tr>\n",
       "      <th>3</th>\n",
       "      <td>3</td>\n",
       "      <td>0</td>\n",
       "      <td>1839752</td>\n",
       "      <td>instant foods</td>\n",
       "      <td>1</td>\n",
       "      <td>0</td>\n",
       "    </tr>\n",
       "    <tr>\n",
       "      <th>4</th>\n",
       "      <td>3</td>\n",
       "      <td>0</td>\n",
       "      <td>1839752</td>\n",
       "      <td>packaged vegetables fruits</td>\n",
       "      <td>2</td>\n",
       "      <td>1</td>\n",
       "    </tr>\n",
       "  </tbody>\n",
       "</table>\n",
       "</div>"
      ],
      "text/plain": [
       "   user_id  order_dow  order_id                       aisle  count  sum\n",
       "0        3          0   1839752                fresh fruits      2    2\n",
       "1        3          0   1839752            fresh vegetables      1    1\n",
       "2        3          0   1839752            frozen breakfast      1    1\n",
       "3        3          0   1839752               instant foods      1    0\n",
       "4        3          0   1839752  packaged vegetables fruits      2    1"
      ]
     },
     "execution_count": 147,
     "metadata": {},
     "output_type": "execute_result"
    }
   ],
   "source": [
    "temp.head()"
   ]
  },
  {
   "cell_type": "code",
   "execution_count": 152,
   "metadata": {
    "collapsed": false
   },
   "outputs": [
    {
     "data": {
      "text/html": [
       "<div>\n",
       "<table border=\"1\" class=\"dataframe\">\n",
       "  <thead>\n",
       "    <tr style=\"text-align: right;\">\n",
       "      <th></th>\n",
       "      <th>user_id</th>\n",
       "      <th>order_dow</th>\n",
       "      <th>order_id</th>\n",
       "      <th>aisle</th>\n",
       "      <th>count</th>\n",
       "      <th>sum</th>\n",
       "    </tr>\n",
       "  </thead>\n",
       "  <tbody>\n",
       "    <tr>\n",
       "      <th>0</th>\n",
       "      <td>3</td>\n",
       "      <td>0</td>\n",
       "      <td>1839752</td>\n",
       "      <td>fresh fruits</td>\n",
       "      <td>2</td>\n",
       "      <td>2</td>\n",
       "    </tr>\n",
       "    <tr>\n",
       "      <th>1</th>\n",
       "      <td>3</td>\n",
       "      <td>0</td>\n",
       "      <td>1839752</td>\n",
       "      <td>fresh vegetables</td>\n",
       "      <td>1</td>\n",
       "      <td>1</td>\n",
       "    </tr>\n",
       "    <tr>\n",
       "      <th>2</th>\n",
       "      <td>3</td>\n",
       "      <td>0</td>\n",
       "      <td>1839752</td>\n",
       "      <td>frozen breakfast</td>\n",
       "      <td>1</td>\n",
       "      <td>1</td>\n",
       "    </tr>\n",
       "    <tr>\n",
       "      <th>3</th>\n",
       "      <td>3</td>\n",
       "      <td>0</td>\n",
       "      <td>1839752</td>\n",
       "      <td>instant foods</td>\n",
       "      <td>1</td>\n",
       "      <td>0</td>\n",
       "    </tr>\n",
       "    <tr>\n",
       "      <th>4</th>\n",
       "      <td>3</td>\n",
       "      <td>0</td>\n",
       "      <td>1839752</td>\n",
       "      <td>packaged vegetables fruits</td>\n",
       "      <td>2</td>\n",
       "      <td>1</td>\n",
       "    </tr>\n",
       "    <tr>\n",
       "      <th>5</th>\n",
       "      <td>3</td>\n",
       "      <td>0</td>\n",
       "      <td>1839752</td>\n",
       "      <td>soy lactosefree</td>\n",
       "      <td>1</td>\n",
       "      <td>1</td>\n",
       "    </tr>\n",
       "    <tr>\n",
       "      <th>6</th>\n",
       "      <td>3</td>\n",
       "      <td>0</td>\n",
       "      <td>1839752</td>\n",
       "      <td>spreads</td>\n",
       "      <td>1</td>\n",
       "      <td>1</td>\n",
       "    </tr>\n",
       "    <tr>\n",
       "      <th>7</th>\n",
       "      <td>3</td>\n",
       "      <td>0</td>\n",
       "      <td>1972919</td>\n",
       "      <td>crackers</td>\n",
       "      <td>1</td>\n",
       "      <td>1</td>\n",
       "    </tr>\n",
       "    <tr>\n",
       "      <th>8</th>\n",
       "      <td>3</td>\n",
       "      <td>0</td>\n",
       "      <td>1972919</td>\n",
       "      <td>fresh fruits</td>\n",
       "      <td>2</td>\n",
       "      <td>2</td>\n",
       "    </tr>\n",
       "    <tr>\n",
       "      <th>9</th>\n",
       "      <td>3</td>\n",
       "      <td>0</td>\n",
       "      <td>1972919</td>\n",
       "      <td>fresh vegetables</td>\n",
       "      <td>2</td>\n",
       "      <td>1</td>\n",
       "    </tr>\n",
       "    <tr>\n",
       "      <th>10</th>\n",
       "      <td>3</td>\n",
       "      <td>0</td>\n",
       "      <td>1972919</td>\n",
       "      <td>packaged cheese</td>\n",
       "      <td>1</td>\n",
       "      <td>1</td>\n",
       "    </tr>\n",
       "    <tr>\n",
       "      <th>11</th>\n",
       "      <td>3</td>\n",
       "      <td>0</td>\n",
       "      <td>1972919</td>\n",
       "      <td>soy lactosefree</td>\n",
       "      <td>1</td>\n",
       "      <td>1</td>\n",
       "    </tr>\n",
       "    <tr>\n",
       "      <th>12</th>\n",
       "      <td>3</td>\n",
       "      <td>0</td>\n",
       "      <td>1972919</td>\n",
       "      <td>spreads</td>\n",
       "      <td>1</td>\n",
       "      <td>1</td>\n",
       "    </tr>\n",
       "    <tr>\n",
       "      <th>13</th>\n",
       "      <td>3</td>\n",
       "      <td>0</td>\n",
       "      <td>3160850</td>\n",
       "      <td>fresh fruits</td>\n",
       "      <td>2</td>\n",
       "      <td>2</td>\n",
       "    </tr>\n",
       "    <tr>\n",
       "      <th>14</th>\n",
       "      <td>3</td>\n",
       "      <td>0</td>\n",
       "      <td>3160850</td>\n",
       "      <td>ice cream ice</td>\n",
       "      <td>1</td>\n",
       "      <td>1</td>\n",
       "    </tr>\n",
       "    <tr>\n",
       "      <th>15</th>\n",
       "      <td>3</td>\n",
       "      <td>0</td>\n",
       "      <td>3160850</td>\n",
       "      <td>packaged vegetables fruits</td>\n",
       "      <td>1</td>\n",
       "      <td>1</td>\n",
       "    </tr>\n",
       "    <tr>\n",
       "      <th>16</th>\n",
       "      <td>3</td>\n",
       "      <td>0</td>\n",
       "      <td>3160850</td>\n",
       "      <td>soy lactosefree</td>\n",
       "      <td>1</td>\n",
       "      <td>1</td>\n",
       "    </tr>\n",
       "    <tr>\n",
       "      <th>17</th>\n",
       "      <td>3</td>\n",
       "      <td>0</td>\n",
       "      <td>3225766</td>\n",
       "      <td>fresh fruits</td>\n",
       "      <td>1</td>\n",
       "      <td>1</td>\n",
       "    </tr>\n",
       "    <tr>\n",
       "      <th>18</th>\n",
       "      <td>3</td>\n",
       "      <td>0</td>\n",
       "      <td>3225766</td>\n",
       "      <td>ice cream ice</td>\n",
       "      <td>1</td>\n",
       "      <td>0</td>\n",
       "    </tr>\n",
       "    <tr>\n",
       "      <th>19</th>\n",
       "      <td>3</td>\n",
       "      <td>0</td>\n",
       "      <td>3225766</td>\n",
       "      <td>instant foods</td>\n",
       "      <td>1</td>\n",
       "      <td>1</td>\n",
       "    </tr>\n",
       "    <tr>\n",
       "      <th>20</th>\n",
       "      <td>3</td>\n",
       "      <td>0</td>\n",
       "      <td>3225766</td>\n",
       "      <td>packaged cheese</td>\n",
       "      <td>1</td>\n",
       "      <td>1</td>\n",
       "    </tr>\n",
       "    <tr>\n",
       "      <th>21</th>\n",
       "      <td>3</td>\n",
       "      <td>0</td>\n",
       "      <td>3225766</td>\n",
       "      <td>packaged vegetables fruits</td>\n",
       "      <td>2</td>\n",
       "      <td>2</td>\n",
       "    </tr>\n",
       "    <tr>\n",
       "      <th>22</th>\n",
       "      <td>3</td>\n",
       "      <td>0</td>\n",
       "      <td>3225766</td>\n",
       "      <td>soy lactosefree</td>\n",
       "      <td>1</td>\n",
       "      <td>1</td>\n",
       "    </tr>\n",
       "    <tr>\n",
       "      <th>23</th>\n",
       "      <td>3</td>\n",
       "      <td>0</td>\n",
       "      <td>3225766</td>\n",
       "      <td>spreads</td>\n",
       "      <td>1</td>\n",
       "      <td>0</td>\n",
       "    </tr>\n",
       "  </tbody>\n",
       "</table>\n",
       "</div>"
      ],
      "text/plain": [
       "    user_id  order_dow  order_id                       aisle  count  sum\n",
       "0         3          0   1839752                fresh fruits      2    2\n",
       "1         3          0   1839752            fresh vegetables      1    1\n",
       "2         3          0   1839752            frozen breakfast      1    1\n",
       "3         3          0   1839752               instant foods      1    0\n",
       "4         3          0   1839752  packaged vegetables fruits      2    1\n",
       "5         3          0   1839752             soy lactosefree      1    1\n",
       "6         3          0   1839752                     spreads      1    1\n",
       "7         3          0   1972919                    crackers      1    1\n",
       "8         3          0   1972919                fresh fruits      2    2\n",
       "9         3          0   1972919            fresh vegetables      2    1\n",
       "10        3          0   1972919             packaged cheese      1    1\n",
       "11        3          0   1972919             soy lactosefree      1    1\n",
       "12        3          0   1972919                     spreads      1    1\n",
       "13        3          0   3160850                fresh fruits      2    2\n",
       "14        3          0   3160850               ice cream ice      1    1\n",
       "15        3          0   3160850  packaged vegetables fruits      1    1\n",
       "16        3          0   3160850             soy lactosefree      1    1\n",
       "17        3          0   3225766                fresh fruits      1    1\n",
       "18        3          0   3225766               ice cream ice      1    0\n",
       "19        3          0   3225766               instant foods      1    1\n",
       "20        3          0   3225766             packaged cheese      1    1\n",
       "21        3          0   3225766  packaged vegetables fruits      2    2\n",
       "22        3          0   3225766             soy lactosefree      1    1\n",
       "23        3          0   3225766                     spreads      1    0"
      ]
     },
     "execution_count": 152,
     "metadata": {},
     "output_type": "execute_result"
    }
   ],
   "source": [
    "temp[temp.user_id == 3]"
   ]
  },
  {
   "cell_type": "code",
   "execution_count": 153,
   "metadata": {
    "collapsed": true
   },
   "outputs": [],
   "source": [
    "# user_id,3의 주문 내역을 보면 fresh fruit의 경우 100% 재구매율을 보임\n",
    "# 더 필요한 것! 다른 날들의 구매 내역"
   ]
  },
  {
   "cell_type": "code",
   "execution_count": 148,
   "metadata": {
    "collapsed": false
   },
   "outputs": [
    {
     "data": {
      "text/plain": [
       "Index([u'user_id', u'order_dow', u'order_id', u'aisle', u'count', u'sum'], dtype='object')"
      ]
     },
     "execution_count": 148,
     "metadata": {},
     "output_type": "execute_result"
    }
   ],
   "source": [
    "temp.columns"
   ]
  },
  {
   "cell_type": "code",
   "execution_count": null,
   "metadata": {
    "collapsed": true
   },
   "outputs": [],
   "source": [
    "concat_final_prior[concat_final_prior.days_since_prior_order == 30.0]"
   ]
  },
  {
   "cell_type": "code",
   "execution_count": 64,
   "metadata": {
    "collapsed": false
   },
   "outputs": [
    {
     "name": "stdout",
     "output_type": "stream",
     "text": [
      " # of product_id without orders:  49688\n",
      "# of product_id with orders:     49677\n"
     ]
    }
   ],
   "source": [
    "# 전체 product중 11개를 제외한 모든 product에 대해 구매했던 기록이 있음\n",
    "print '# of product_id without orders: ', len(products[\"product_id\"].unique())\n",
    "print '# of product_id with orders:    ', len(concat_final_prior[\"product_id\"].unique())"
   ]
  },
  {
   "cell_type": "code",
   "execution_count": 61,
   "metadata": {
    "collapsed": true
   },
   "outputs": [],
   "source": [
    "# 전체 product중 11개를 제외한 모든 product에 대해 구매했던 기록이 있음"
   ]
  },
  {
   "cell_type": "markdown",
   "metadata": {},
   "source": [
    "### Hypothesis\n",
    "1. Add_to_cart_order will be a positive relationship with reordered\n",
    "  - 순위별 카트에 넣는 물품의 분포\n",
    "  - 순위별 재구매율"
   ]
  },
  {
   "cell_type": "code",
   "execution_count": 64,
   "metadata": {
    "collapsed": true
   },
   "outputs": [],
   "source": [
    "# product id 당 reordered를 예측"
   ]
  }
 ],
 "metadata": {
  "kernelspec": {
   "display_name": "Python 2",
   "language": "python",
   "name": "python2"
  },
  "language_info": {
   "codemirror_mode": {
    "name": "ipython",
    "version": 2
   },
   "file_extension": ".py",
   "mimetype": "text/x-python",
   "name": "python",
   "nbconvert_exporter": "python",
   "pygments_lexer": "ipython2",
   "version": "2.7.13"
  }
 },
 "nbformat": 4,
 "nbformat_minor": 2
}
